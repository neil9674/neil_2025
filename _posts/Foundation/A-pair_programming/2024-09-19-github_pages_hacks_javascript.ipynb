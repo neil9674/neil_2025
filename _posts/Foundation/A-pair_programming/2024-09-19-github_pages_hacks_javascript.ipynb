{
 "cells": [
  {
   "cell_type": "raw",
   "metadata": {
    "vscode": {
     "languageId": "raw"
    }
   },
   "source": [
    "---\n",
    "layout: post\n",
    "title: Javascript Github Pages Hacks - Neil C\n",
    "type: issues\n",
    "toc: true\n",
    "description: This is a notebook that runs a Javascript cell with Yash Parikh\n",
    "comments: true\n",
    "---"
   ]
  },
  {
   "cell_type": "code",
   "execution_count": 8,
   "metadata": {
    "vscode": {
     "languageId": "javascript"
    }
   },
   "outputs": [
    {
     "data": {
      "application/javascript": "\nconsole.log(\"Rock, Paper, Scissors with Yash Parikh\")\nconst choices = [\"rock\", \"paper\", \"scissors\"];\nfunction playRound(playerChoice) {\n    const computerChoice = choices[Math.floor(Math.random() * 3)];\n    console.log(`You: ${playerChoice}, Computer: ${computerChoice}`);\n    if (playerChoice === computerChoice) return \"It's a tie!\";\n    if (\n        (playerChoice === \"rock\" && computerChoice === \"scissors\") ||\n        (playerChoice === \"paper\" && computerChoice === \"rock\") ||\n        (playerChoice === \"scissors\" && computerChoice === \"paper\")\n    ) return \"You win!\";\n    return \"You lose!\";\n}\n",
      "text/plain": [
       "<IPython.core.display.Javascript object>"
      ]
     },
     "metadata": {},
     "output_type": "display_data"
    }
   ],
   "source": [
    "console.log(\"Rock, Paper, Scissors with Yash Parikh\")\n",
    "const choices = [\"rock\", \"paper\", \"scissors\"];\n",
    "function playRound(playerChoice) {\n",
    "    const computerChoice = choices[Math.floor(Math.random() * 3)];\n",
    "    console.log(`You: ${playerChoice}, Computer: ${computerChoice}`);\n",
    "    if (playerChoice === computerChoice) return \"It's a tie!\";\n",
    "    if (\n",
    "        (playerChoice === \"rock\" && computerChoice === \"scissors\") ||\n",
    "        (playerChoice === \"paper\" && computerChoice === \"rock\") ||\n",
    "        (playerChoice === \"scissors\" && computerChoice === \"paper\")\n",
    "    ) return \"You win!\";\n",
    "    return \"You lose!\";\n",
    "}"
   ]
  }
 ],
 "metadata": {
  "kernelspec": {
   "display_name": "venv",
   "language": "python",
   "name": "python3"
  },
  "language_info": {
   "codemirror_mode": {
    "name": "ipython",
    "version": 3
   },
   "file_extension": ".py",
   "mimetype": "text/x-python",
   "name": "python",
   "nbconvert_exporter": "python",
   "pygments_lexer": "ipython3",
   "version": "3.12.6"
  }
 },
 "nbformat": 4,
 "nbformat_minor": 2
}
