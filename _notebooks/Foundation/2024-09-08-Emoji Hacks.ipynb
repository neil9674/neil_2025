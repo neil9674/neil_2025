---
toc: true
layout: post
type: hacks
title: Emoji Hacks - Neil C
description: Emoji Hacks Blog
---

!pip install emoji
from emoji import emojize 
print(emojize(":thumbs_up: Hi, this is a test for Emoji Hacks! :fire: :100:"))
print(emojize(":thumbs_up: Wow, Emojis are really cool. :smile:"))
