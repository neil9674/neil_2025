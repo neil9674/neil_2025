{
 "cells": [
  {
   "cell_type": "raw",
   "metadata": {
    "vscode": {
     "languageId": "raw"
    }
   },
   "source": [
    "---\n",
    "layout: post\n",
    "title:  Big Idea 3 Section 3\n",
    "author: Neil Chandra\n",
    "type: issues\n",
    "description: Popcorn hacks and Homework for Section 3 of Big Idea 3\n",
    "toc: true\n",
    "comments: true\n",
    "---"
   ]
  },
  {
   "cell_type": "markdown",
   "metadata": {},
   "source": [
    "## Big Idea 3 Section 3"
   ]
  },
  {
   "cell_type": "markdown",
   "metadata": {},
   "source": [
    "### Popcorn Hack #1"
   ]
  },
  {
   "cell_type": "code",
   "execution_count": 1,
   "metadata": {},
   "outputs": [
    {
     "name": "stdout",
     "output_type": "stream",
     "text": [
      "Numbers added: 23\n",
      "Numbers subtracted: 19\n",
      "Numbers multiplied: 42\n",
      "Numbers divided: 10.5\n"
     ]
    }
   ],
   "source": [
    "number1 = 21\n",
    "number2 = 2\n",
    "\n",
    "Addition_var = number1 + number2\n",
    "Subtract_var = number1 - number2\n",
    "Multiply_var = number1 * number2\n",
    "Divide_var = number1 / number2 if number2 != 0 else 'undefined'\n",
    "\n",
    "print(f\"Numbers added: {Addition_var}\")\n",
    "print(f\"Numbers subtracted: {Subtract_var}\")\n",
    "print(f\"Numbers multiplied: {Multiply_var}\")\n",
    "print(f\"Numbers divided: {Divide_var}\")"
   ]
  },
  {
   "cell_type": "markdown",
   "metadata": {},
   "source": [
    "### Popcorn Hack #2"
   ]
  },
  {
   "cell_type": "code",
   "execution_count": 3,
   "metadata": {},
   "outputs": [
    {
     "name": "stdout",
     "output_type": "stream",
     "text": [
      "The 23th Fibonacci number is: 17711\n"
     ]
    }
   ],
   "source": [
    "def fibonacci_algorithm(num):\n",
    "    if num <= 0:\n",
    "        return \"This input is invalid, please try something else.\"\n",
    "    elif num == 1:\n",
    "        return 0\n",
    "    elif num == 2:\n",
    "        return 1\n",
    "    else:\n",
    "        return fibonacci_algorithm(num - 1) + fibonacci_algorithm(num - 2)\n",
    "\n",
    "\n",
    "num = 23\n",
    "print(f\"The {num}th Fibonacci number is: {fibonacci_algorithm(num)}\")"
   ]
  },
  {
   "cell_type": "markdown",
   "metadata": {},
   "source": [
    "### Homework in Python"
   ]
  },
  {
   "cell_type": "code",
   "execution_count": null,
   "metadata": {},
   "outputs": [],
   "source": [
    "import numpy as np\n",
    "import logging\n",
    "import sys\n",
    "\n",
    "# Configure logging\n",
    "logging.basicConfig(level=logging.INFO, format='%(levelname)s:%(message)s')\n",
    "\n",
    "def matrix_multiply(A, B):\n",
    "    \"\"\"\n",
    "    Perform matrix multiplication between two numpy arrays A and B.\n",
    "    \"\"\"\n",
    "    logging.debug(f\"Multiplying matrices:\\n{A}\\n{B}\")\n",
    "    return np.dot(A, B)\n",
    "\n",
    "def matrix_power(M, power):\n",
    "    \"\"\"\n",
    "    Raise matrix M to the specified power using binary exponentiation.\n",
    "    \"\"\"\n",
    "    if power < 0:\n",
    "        raise ValueError(\"Power must be a non-negative integer.\")\n",
    "    \n",
    "    result = np.identity(len(M), dtype=object)\n",
    "    logging.debug(f\"Initial identity matrix:\\n{result}\")\n",
    "    \n",
    "    while power > 0:\n",
    "        if power % 2 == 1:\n",
    "            result = matrix_multiply(result, M)\n",
    "            logging.debug(f\"Result after multiplying by M:\\n{result}\")\n",
    "        M = matrix_multiply(M, M)\n",
    "        logging.debug(f\"Matrix M squared:\\n{M}\")\n",
    "        power = power // 2\n",
    "        logging.debug(f\"Power reduced to: {power}\")\n",
    "    \n",
    "    return result\n",
    "\n",
    "def fibonacci_matrix(n):\n",
    "    \"\"\"\n",
    "    Calculate the nth Fibonacci number using matrix exponentiation.\n",
    "    \"\"\"\n",
    "    if not isinstance(n, int):\n",
    "        raise TypeError(\"Input must be an integer.\")\n",
    "    if n < 0:\n",
    "        raise ValueError(\"Fibonacci number is not defined for negative integers.\")\n",
    "    elif n == 0:\n",
    "        return 0\n",
    "    elif n == 1:\n",
    "        return 1\n",
    "    \n",
    "    F = np.array([[1, 1],\n",
    "                  [1, 0]], dtype=object)\n",
    "    \n",
    "    result = matrix_power(F, n-1)\n",
    "    \n",
    "    logging.info(f\"Matrix raised to power {n-1}:\\n{result}\")\n",
    "    \n",
    "    return result[0][0]\n",
    "\n",
    "def validate_input(user_input):\n",
    "    \"\"\"\n",
    "    Validate the user input to ensure it's a non-negative integer.\n",
    "    \"\"\"\n",
    "    try:\n",
    "        value = int(user_input)\n",
    "        if value < 0:\n",
    "            raise ValueError\n",
    "        return value\n",
    "    except ValueError:\n",
    "        raise ValueError(\"Please enter a valid non-negative integer.\")\n",
    "\n",
    "def main():\n",
    "    \"\"\"\n",
    "    Main function to execute the Fibonacci calculation.\n",
    "    \"\"\"\n",
    "    try:\n",
    "        user_input = input(\"Enter the position of the Fibonacci number you want to calculate: \")\n",
    "        n = validate_input(user_input)\n",
    "        fib_n = fibonacci_matrix(n)\n",
    "        print(f\"Fibonacci number at position {n} is: {fib_n}\")\n",
    "    except ValueError as ve:\n",
    "        logging.error(ve)\n",
    "    except Exception as e:\n",
    "        logging.error(f\"An unexpected error occurred: {e}\")\n",
    "        sys.exit(1)\n",
    "\n",
    "if __name__ == \"__main__\":\n",
    "    main()"
   ]
  },
  {
   "cell_type": "markdown",
   "metadata": {},
   "source": [
    "### Homework in Javascript"
   ]
  },
  {
   "cell_type": "code",
   "execution_count": 4,
   "metadata": {
    "vscode": {
     "languageId": "javascript"
    }
   },
   "outputs": [
    {
     "data": {
      "application/javascript": "\nfunction fibonacci(n) {\n    if (n === 0) return 0;\n    if (n === 1) return 1;\n\n    let prev1 = 1, prev2 = 0, current = 0;\n\n    for (let i = 2; i <= n; i++) {\n        current = prev1 + prev2;\n        prev2 = prev1;\n        prev1 = current;\n    }\n\n    return current;\n}\n\nfunction fibonacciMatrix(n) {\n    if (n === 0) return 0;\n    \n    let F = [[1, 1], [1, 0]];\n    power(F, n - 1);\n\n    return F[0][0];\n}\n\nfunction power(F, n) {\n    if (n === 0 || n === 1) return;\n\n    let M = [[1, 1], [1, 0]];\n\n    power(F, Math.floor(n / 2));\n    multiply(F, F);\n\n    if (n % 2 !== 0) multiply(F, M);\n}\n\nfunction multiply(F, M) {\n    let x = F[0][0] * M[0][0] + F[0][1] * M[1][0];\n    let y = F[0][0] * M[0][1] + F[0][1] * M[1][1];\n    let z = F[1][0] * M[0][0] + F[1][1] * M[1][0];\n    let w = F[1][0] * M[0][1] + F[1][1] * M[1][1];\n\n    F[0][0] = x;\n    F[0][1] = y;\n    F[1][0] = z;\n    F[1][1] = w;\n}\n\nlet n = 50;\n\nconsole.log(\"Fibonacci number at position \" + n + \" using DP is: \" + fibonacci(n));\nconsole.log(\"Fibonacci number at position \" + n + \" using Matrix Exponentiation is: \" + fibonacciMatrix(n));\n",
      "text/plain": [
       "<IPython.core.display.Javascript object>"
      ]
     },
     "metadata": {},
     "output_type": "display_data"
    }
   ],
   "source": [
    "%%js\n",
    "\n",
    "function fibonacci(n) {\n",
    "    if (n === 0) return 0;\n",
    "    if (n === 1) return 1;\n",
    "\n",
    "    let prev1 = 1, prev2 = 0, current = 0;\n",
    "\n",
    "    for (let i = 2; i <= n; i++) {\n",
    "        current = prev1 + prev2;\n",
    "        prev2 = prev1;\n",
    "        prev1 = current;\n",
    "    }\n",
    "\n",
    "    return current;\n",
    "}\n",
    "\n",
    "function fibonacciMatrix(n) {\n",
    "    if (n === 0) return 0;\n",
    "    \n",
    "    let F = [[1, 1], [1, 0]];\n",
    "    power(F, n - 1);\n",
    "\n",
    "    return F[0][0];\n",
    "}\n",
    "\n",
    "function power(F, n) {\n",
    "    if (n === 0 || n === 1) return;\n",
    "\n",
    "    let M = [[1, 1], [1, 0]];\n",
    "\n",
    "    power(F, Math.floor(n / 2));\n",
    "    multiply(F, F);\n",
    "\n",
    "    if (n % 2 !== 0) multiply(F, M);\n",
    "}\n",
    "\n",
    "function multiply(F, M) {\n",
    "    let x = F[0][0] * M[0][0] + F[0][1] * M[1][0];\n",
    "    let y = F[0][0] * M[0][1] + F[0][1] * M[1][1];\n",
    "    let z = F[1][0] * M[0][0] + F[1][1] * M[1][0];\n",
    "    let w = F[1][0] * M[0][1] + F[1][1] * M[1][1];\n",
    "\n",
    "    F[0][0] = x;\n",
    "    F[0][1] = y;\n",
    "    F[1][0] = z;\n",
    "    F[1][1] = w;\n",
    "}\n",
    "\n",
    "let n = 50;\n",
    "\n",
    "console.log(\"Fibonacci number at position \" + n + \" using DP is: \" + fibonacci(n));\n",
    "console.log(\"Fibonacci number at position \" + n + \" using Matrix Exponentiation is: \" + fibonacciMatrix(n));\n"
   ]
  }
 ],
 "metadata": {
  "kernelspec": {
   "display_name": "venv",
   "language": "python",
   "name": "python3"
  },
  "language_info": {
   "codemirror_mode": {
    "name": "ipython",
    "version": 3
   },
   "file_extension": ".py",
   "mimetype": "text/x-python",
   "name": "python",
   "nbconvert_exporter": "python",
   "pygments_lexer": "ipython3",
   "version": "3.12.6"
  }
 },
 "nbformat": 4,
 "nbformat_minor": 2
}
