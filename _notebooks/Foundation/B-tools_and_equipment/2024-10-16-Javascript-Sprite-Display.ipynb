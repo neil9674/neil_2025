{
 "cells": [
  {
   "cell_type": "code",
   "execution_count": 30,
   "metadata": {
    "vscode": {
     "languageId": "html"
    }
   },
   "outputs": [
    {
     "ename": "IndentationError",
     "evalue": "unindent does not match any outer indentation level (<string>, line 4)",
     "output_type": "error",
     "traceback": [
      "\u001b[0;36m  File \u001b[0;32m<string>:4\u001b[0;36m\u001b[0m\n\u001b[0;31m    }\u001b[0m\n\u001b[0m     ^\u001b[0m\n\u001b[0;31mIndentationError\u001b[0m\u001b[0;31m:\u001b[0m unindent does not match any outer indentation level\n"
     ]
    }
   ],
   "source": [
    "<style>\n",
    "    #gameCanvasUnique {\n",
    "        border: 4px solid rgb(4, 102, 33);\n",
    "    }\n",
    "</style>\n",
    "\n",
    "<canvas id=\"gameCanvasUnique\" width=\"1280\" height=\"1280\"></canvas>\n",
    "\n",
    "<script>\n",
    "function defineAndDrawSprite() {\n",
    "    function MarioSpriteMetaData() {\n",
    "        const isLocal = window.location.protocol === 'vscode-webview:' || false;\n",
    "        const baseUrl = isLocal ? '.' : '/neil_2025';\n",
    "        const spriteMetaData = {\n",
    "            name: 'mario',\n",
    "            src: `${baseUrl}/images/mario_animation.png`,\n",
    "            orientation: {\n",
    "                rows: 16,\n",
    "                columns: 16,\n",
    "            },\n",
    "            scale: {\n",
    "                x: 0.33,\n",
    "                y: 0.33  \n",
    "            }\n",
    "        };\n",
    "\n",
    "        return spriteMetaData;\n",
    "    }\n",
    "\n",
    "    class CanvasData {\n",
    "        constructor(spriteMetaData) {\n",
    "            this.spriteMetaData = spriteMetaData;\n",
    "            this.INIT_POSITION = { x: 0, y: 0 };\n",
    "            this.canvas = document.getElementById('gameCanvasUnique');\n",
    "            this.ctx = this.canvas.getContext('2d');\n",
    "            this.spriteImage = new Image();\n",
    "            this.spriteImage.src = spriteMetaData.src;\n",
    "            this.spriteImage.onload = () => this.draw();\n",
    "        }\n",
    "\n",
    "        draw() {\n",
    "            const sheetWidth = this.spriteImage.width; \n",
    "            const sheetHeight = this.spriteImage.height;\n",
    "            const rows = this.spriteMetaData.orientation.rows;\n",
    "            const cols = this.spriteMetaData.orientation.columns;\n",
    "            const x = this.INIT_POSITION.x;\n",
    "            const y = this.INIT_POSITION.y;\n",
    "\n",
    "            const spriteWidth = sheetWidth / cols;\n",
    "            const spriteHeight = sheetHeight / rows;\n",
    "\n",
    "            for (let row = 0; row < rows; row++) {\n",
    "                for (let col = 0; col < cols; col++) {\n",
    "                    const srcX = col * spriteWidth;\n",
    "                    const srcY = row * spriteHeight;\n",
    "\n",
    "                    const destX = x + col * spriteWidth * this.spriteMetaData.scale.x;\n",
    "                    const destY = y + row * spriteHeight * this.spriteMetaData.scale.y;\n",
    "\n",
    "                    this.ctx.drawImage(\n",
    "                        this.spriteImage,\n",
    "                        srcX, srcY, spriteWidth, spriteHeight,\n",
    "                        destX, destY, spriteWidth * this.spriteMetaData.scale.x, spriteHeight * this.spriteMetaData.scale.y\n",
    "                    );\n",
    "                }\n",
    "            }\n",
    "        }\n",
    "    }\n",
    "\n",
    "    const mario = new CanvasData(MarioSpriteMetaData());\n",
    "}\n",
    "\n",
    "defineAndDrawSprite();\n",
    "</script>\n"
   ]
  }
 ],
 "metadata": {
  "kernelspec": {
   "display_name": "venv",
   "language": "python",
   "name": "python3"
  },
  "language_info": {
   "codemirror_mode": {
    "name": "ipython",
    "version": 3
   },
   "file_extension": ".py",
   "mimetype": "text/x-python",
   "name": "python",
   "nbconvert_exporter": "python",
   "pygments_lexer": "ipython3",
   "version": "3.12.6"
  }
 },
 "nbformat": 4,
 "nbformat_minor": 2
}
