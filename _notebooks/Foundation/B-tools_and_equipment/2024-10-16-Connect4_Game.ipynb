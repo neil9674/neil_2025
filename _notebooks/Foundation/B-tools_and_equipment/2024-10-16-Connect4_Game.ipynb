{
 "cells": [
  {
   "cell_type": "raw",
   "metadata": {
    "vscode": {
     "languageId": "raw"
    }
   },
   "source": [
    "---\n",
    "layout: post\n",
    "title:  Sprint 2 Final\n",
    "author: Neil Chandra\n",
    "type: issues\n",
    "description: Sprint 2 Final Game\n",
    "toc: true\n",
    "comments: true\n",
    "---"
   ]
  },
  {
   "cell_type": "markdown",
   "metadata": {},
   "source": [
    "# Sprint 2 Final Presentation"
   ]
  },
  {
   "cell_type": "markdown",
   "metadata": {},
   "source": [
    "## Executive Summary"
   ]
  },
  {
   "cell_type": "markdown",
   "metadata": {},
   "source": [
    "### Contribution/Work"
   ]
  },
  {
   "cell_type": "markdown",
   "metadata": {},
   "source": [
    "> - I gave myself a 0.87, because while I contributed I felt like I could have put more effort into it. \n",
    "> - I created the quizziz for students to test my knowledge on, I created many of the descriptions/definitions for the abstractions, and I also created some of the popcorn hacks. Overall, I contributed well, but I could still improve."
   ]
  },
  {
   "cell_type": "markdown",
   "metadata": {},
   "source": [
    "### Takeaways"
   ]
  },
  {
   "cell_type": "markdown",
   "metadata": {},
   "source": [
    "> - This unit was truly valuable. I came into this course with prior knowledge of Python, but the Sprint 2 teaching allowed me to learn more complex things for Python, while teaching me the basics of Javascript. \n",
    "> - This unit covered many of the essential functions and operations within the coding languages, which will help me through my coding journey.\n",
    "> - Aside from coding, this lesson also thought me how to collaborate with colleagues in the real world. Considering that I want to work in the field of CompSci, I now know how to communicate with, and cross-integrate my work with other people coding at the same time."
   ]
  },
  {
   "cell_type": "markdown",
   "metadata": {},
   "source": [
    "### Homeworks"
   ]
  },
  {
   "cell_type": "markdown",
   "metadata": {},
   "source": [
    "> - All homeworks can be found on the home page, in the grid. \n",
    "> - I completed ll of the popcorn hacks and homework hacks, and for each on I tried to make it unique to showcase that I understand how it works, and what I'm doing. \n",
    "> - The homework was a great way for me to practice my skills while learning the material, allowing for me to better my coding skills exponentially."
   ]
  },
  {
   "cell_type": "markdown",
   "metadata": {},
   "source": [
    "### Grading"
   ]
  },
  {
   "cell_type": "markdown",
   "metadata": {},
   "source": [
    "> - Our grading spreadsheet can be found [here](https://docs.google.com/spreadsheets/d/16D9mIlWcavUshWjFtAqSggfTtgd9BRJnT7jEnMb5zGM/edit?usp=sharing)\n",
    "> - We ended up splitting the entire spreadsheet into 4 parts to ensure everyone had an equal contribution to the grading.\n",
    "> - For each person, we would would leave detailed feedback on notes on where they went wrong. This ensured that they knew where to improve on. For example, we would leave comments telling them that they didn't create their own code, and simply copied and pasted it from the lesson.\n",
    "> Overall, the grading also gave us valuably insight into how well we communicated the lessons to our peers."
   ]
  },
  {
   "cell_type": "markdown",
   "metadata": {},
   "source": [
    "### Teaching Process"
   ]
  },
  {
   "cell_type": "markdown",
   "metadata": {},
   "source": [
    "> The teaching process (for us it was data abstractions) was really helpful for us to research and learn a new topic, and then understand it proficiently enough to teach it to other people.\n",
    "> Our group decided to go the extra mile, and ensure the answers were hidden, so people would be more motivated to learn the code rather than copy/paste it. Additionally, our group created a Quizziz so people could test their knowledge.\n",
    "> Our lesson can be found [here](https://nighthawkcoders.github.io/portfolio_2025/csp/big-idea/p2/3-2/)"
   ]
  },
  {
   "cell_type": "markdown",
   "metadata": {},
   "source": [
    "### Conclusion"
   ]
  },
  {
   "cell_type": "markdown",
   "metadata": {},
   "source": [
    "> Overall, this project was really beneficial for my coding skills. It will continue to serve me a purpose in the future, because it also taught me the skill of collaboration in a technology oriented \"work\" environment.To demonstrate everything I have learned so far, I created the following Connect 4 game to showcase mathematical operations, iterations, strings, integers, and more."
   ]
  },
  {
   "cell_type": "markdown",
   "metadata": {},
   "source": [
    "## Connect 4 Sprint 2 Final Project"
   ]
  },
  {
   "cell_type": "code",
   "execution_count": 3,
   "metadata": {},
   "outputs": [
    {
     "name": "stdout",
     "output_type": "stream",
     "text": [
      "| | | | | | | |\n",
      "| | | | | | | |\n",
      "| | | | | | | |\n",
      "| | | | | | | |\n",
      "| | | | | | | |\n",
      "| | | | | | | |\n",
      " 0 1 2 3 4 5 6\n",
      "| | | | | | | |\n",
      "| | | | | | | |\n",
      "| | | | | | | |\n",
      "| | | | | | | |\n",
      "| | | | | | | |\n",
      "| |X| | | | | |\n",
      " 0 1 2 3 4 5 6\n",
      "| | | | | | | |\n",
      "| | | | | | | |\n",
      "| | | | | | | |\n",
      "| | | | | | | |\n",
      "| | | | | | | |\n",
      "| |X|O| | | | |\n",
      " 0 1 2 3 4 5 6\n",
      "| | | | | | | |\n",
      "| | | | | | | |\n",
      "| | | | | | | |\n",
      "| | | | | | | |\n",
      "| |X| | | | | |\n",
      "| |X|O| | | | |\n",
      " 0 1 2 3 4 5 6\n"
     ]
    },
    {
     "ename": "ValueError",
     "evalue": "invalid literal for int() with base 10: ''",
     "output_type": "error",
     "traceback": [
      "\u001b[0;31m---------------------------------------------------------------------------\u001b[0m",
      "\u001b[0;31mValueError\u001b[0m                                Traceback (most recent call last)",
      "Cell \u001b[0;32mIn[3], line 63\u001b[0m\n\u001b[1;32m     60\u001b[0m         current_player \u001b[38;5;241m=\u001b[39m \u001b[38;5;124m\"\u001b[39m\u001b[38;5;124mO\u001b[39m\u001b[38;5;124m\"\u001b[39m \u001b[38;5;28;01mif\u001b[39;00m current_player \u001b[38;5;241m==\u001b[39m \u001b[38;5;124m\"\u001b[39m\u001b[38;5;124mX\u001b[39m\u001b[38;5;124m\"\u001b[39m \u001b[38;5;28;01melse\u001b[39;00m \u001b[38;5;124m\"\u001b[39m\u001b[38;5;124mX\u001b[39m\u001b[38;5;124m\"\u001b[39m\n\u001b[1;32m     62\u001b[0m \u001b[38;5;28;01mif\u001b[39;00m \u001b[38;5;18m__name__\u001b[39m \u001b[38;5;241m==\u001b[39m \u001b[38;5;124m\"\u001b[39m\u001b[38;5;124m__main__\u001b[39m\u001b[38;5;124m\"\u001b[39m:\n\u001b[0;32m---> 63\u001b[0m     \u001b[43mmain\u001b[49m\u001b[43m(\u001b[49m\u001b[43m)\u001b[49m\n",
      "Cell \u001b[0;32mIn[3], line 46\u001b[0m, in \u001b[0;36mmain\u001b[0;34m()\u001b[0m\n\u001b[1;32m     44\u001b[0m \u001b[38;5;28;01mwhile\u001b[39;00m \u001b[38;5;129;01mnot\u001b[39;00m game_over:\n\u001b[1;32m     45\u001b[0m     print_board(board)\n\u001b[0;32m---> 46\u001b[0m     col \u001b[38;5;241m=\u001b[39m \u001b[38;5;28;43mint\u001b[39;49m\u001b[43m(\u001b[49m\u001b[38;5;28;43minput\u001b[39;49m\u001b[43m(\u001b[49m\u001b[38;5;124;43mf\u001b[39;49m\u001b[38;5;124;43m\"\u001b[39;49m\u001b[38;5;124;43mPlayer \u001b[39;49m\u001b[38;5;132;43;01m{\u001b[39;49;00m\u001b[43mcurrent_player\u001b[49m\u001b[38;5;132;43;01m}\u001b[39;49;00m\u001b[38;5;124;43m, choose a column (0-\u001b[39;49m\u001b[38;5;132;43;01m{\u001b[39;49;00m\u001b[43mCOLUMNS\u001b[49m\u001b[38;5;250;43m \u001b[39;49m\u001b[38;5;241;43m-\u001b[39;49m\u001b[38;5;250;43m \u001b[39;49m\u001b[38;5;241;43m1\u001b[39;49m\u001b[38;5;132;43;01m}\u001b[39;49;00m\u001b[38;5;124;43m): \u001b[39;49m\u001b[38;5;124;43m\"\u001b[39;49m\u001b[43m)\u001b[49m\u001b[43m)\u001b[49m\n\u001b[1;32m     48\u001b[0m     \u001b[38;5;28;01mif\u001b[39;00m col \u001b[38;5;241m<\u001b[39m \u001b[38;5;241m0\u001b[39m \u001b[38;5;129;01mor\u001b[39;00m col \u001b[38;5;241m>\u001b[39m\u001b[38;5;241m=\u001b[39m COLUMNS \u001b[38;5;129;01mor\u001b[39;00m is_column_full(board, col):\n\u001b[1;32m     49\u001b[0m         \u001b[38;5;28mprint\u001b[39m(\u001b[38;5;124m\"\u001b[39m\u001b[38;5;124mInvalid move. Try again.\u001b[39m\u001b[38;5;124m\"\u001b[39m)\n",
      "\u001b[0;31mValueError\u001b[0m: invalid literal for int() with base 10: ''"
     ]
    }
   ],
   "source": [
    "ROWS = 6\n",
    "COLUMNS = 7\n",
    "\n",
    "def create_board():\n",
    "    return [[\" \" for _ in range(COLUMNS)] for _ in range(ROWS)]\n",
    "\n",
    "def print_board(board):\n",
    "    for row in board:\n",
    "        print(\"|\" + \"|\".join(row) + \"|\")\n",
    "    print(\" \" + \" \".join(str(i) for i in range(COLUMNS)))\n",
    "\n",
    "def check_winner(board, player):\n",
    "    for c in range(COLUMNS - 3):\n",
    "        for r in range(ROWS):\n",
    "            if board[r][c] == player and board[r][c + 1] == player and board[r][c + 2] == player and board[r][c + 3] == player:\n",
    "                return True\n",
    "    for c in range(COLUMNS):\n",
    "        for r in range(ROWS - 3):\n",
    "            if board[r][c] == player and board[r + 1][c] == player and board[r + 2][c] == player and board[r + 3][c] == player:\n",
    "                return True\n",
    "    for c in range(COLUMNS - 3):\n",
    "        for r in range(ROWS - 3):\n",
    "            if board[r][c] == player and board[r + 1][c + 1] == player and board[r + 2][c + 2] == player and board[r + 3][c + 3] == player:\n",
    "                return True\n",
    "    for c in range(COLUMNS - 3):\n",
    "        for r in range(3, ROWS):\n",
    "            if board[r][c] == player and board[r - 1][c + 1] == player and board[r - 2][c + 2] == player and board[r - 3][c + 3] == player:\n",
    "                return True\n",
    "    return False\n",
    "\n",
    "def is_column_full(board, col):\n",
    "    return board[0][col] != \" \"\n",
    "\n",
    "def get_next_available_row(board, col):\n",
    "    for r in range(ROWS - 1, -1, -1):\n",
    "        if board[r][col] == \" \":\n",
    "            return r\n",
    "\n",
    "def main():\n",
    "    board = create_board()\n",
    "    game_over = False\n",
    "    current_player = \"X\"\n",
    "\n",
    "    while not game_over:\n",
    "        print_board(board)\n",
    "        col = int(input(f\"Player {current_player}, choose a column (0-{COLUMNS - 1}): \"))\n",
    "\n",
    "        if col < 0 or col >= COLUMNS or is_column_full(board, col):\n",
    "            print(\"Invalid move. Try again.\")\n",
    "            continue\n",
    "\n",
    "        row = get_next_available_row(board, col)\n",
    "        board[row][col] = current_player\n",
    "\n",
    "        if check_winner(board, current_player):\n",
    "            print_board(board)\n",
    "            print(f\"Player {current_player} wins!\")\n",
    "            game_over = True\n",
    "\n",
    "        current_player = \"O\" if current_player == \"X\" else \"X\"\n",
    "\n",
    "if __name__ == \"__main__\":\n",
    "    main()\n"
   ]
  }
 ],
 "metadata": {
  "kernelspec": {
   "display_name": "venv",
   "language": "python",
   "name": "python3"
  },
  "language_info": {
   "codemirror_mode": {
    "name": "ipython",
    "version": 3
   },
   "file_extension": ".py",
   "mimetype": "text/x-python",
   "name": "python",
   "nbconvert_exporter": "python",
   "pygments_lexer": "ipython3",
   "version": "3.12.6"
  }
 },
 "nbformat": 4,
 "nbformat_minor": 2
}
