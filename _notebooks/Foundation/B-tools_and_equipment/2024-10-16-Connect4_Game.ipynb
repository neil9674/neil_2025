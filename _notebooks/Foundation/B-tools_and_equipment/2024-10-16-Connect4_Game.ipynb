{
 "cells": [
  {
   "cell_type": "raw",
   "metadata": {
    "vscode": {
     "languageId": "raw"
    }
   },
   "source": [
    "---\n",
    "layout: post\n",
    "title:  Connect 4 Sprint 2 Final\n",
    "author: Neil Chandra\n",
    "type: issues\n",
    "description: Connect 4 Sprint 2 Final Game code\n",
    "toc: true\n",
    "comments: true\n",
    "---"
   ]
  },
  {
   "cell_type": "markdown",
   "metadata": {},
   "source": [
    "## Connect 4 Sprint 2 Final Project"
   ]
  },
  {
   "cell_type": "code",
   "execution_count": 3,
   "metadata": {},
   "outputs": [
    {
     "name": "stdout",
     "output_type": "stream",
     "text": [
      "| | | | | | | |\n",
      "| | | | | | | |\n",
      "| | | | | | | |\n",
      "| | | | | | | |\n",
      "| | | | | | | |\n",
      "| | | | | | | |\n",
      " 0 1 2 3 4 5 6\n",
      "| | | | | | | |\n",
      "| | | | | | | |\n",
      "| | | | | | | |\n",
      "| | | | | | | |\n",
      "| | | | | | | |\n",
      "| |X| | | | | |\n",
      " 0 1 2 3 4 5 6\n",
      "| | | | | | | |\n",
      "| | | | | | | |\n",
      "| | | | | | | |\n",
      "| | | | | | | |\n",
      "| | | | | | | |\n",
      "| |X|O| | | | |\n",
      " 0 1 2 3 4 5 6\n",
      "| | | | | | | |\n",
      "| | | | | | | |\n",
      "| | | | | | | |\n",
      "| | | | | | | |\n",
      "| |X| | | | | |\n",
      "| |X|O| | | | |\n",
      " 0 1 2 3 4 5 6\n"
     ]
    },
    {
     "ename": "ValueError",
     "evalue": "invalid literal for int() with base 10: ''",
     "output_type": "error",
     "traceback": [
      "\u001b[0;31m---------------------------------------------------------------------------\u001b[0m",
      "\u001b[0;31mValueError\u001b[0m                                Traceback (most recent call last)",
      "Cell \u001b[0;32mIn[3], line 63\u001b[0m\n\u001b[1;32m     60\u001b[0m         current_player \u001b[38;5;241m=\u001b[39m \u001b[38;5;124m\"\u001b[39m\u001b[38;5;124mO\u001b[39m\u001b[38;5;124m\"\u001b[39m \u001b[38;5;28;01mif\u001b[39;00m current_player \u001b[38;5;241m==\u001b[39m \u001b[38;5;124m\"\u001b[39m\u001b[38;5;124mX\u001b[39m\u001b[38;5;124m\"\u001b[39m \u001b[38;5;28;01melse\u001b[39;00m \u001b[38;5;124m\"\u001b[39m\u001b[38;5;124mX\u001b[39m\u001b[38;5;124m\"\u001b[39m\n\u001b[1;32m     62\u001b[0m \u001b[38;5;28;01mif\u001b[39;00m \u001b[38;5;18m__name__\u001b[39m \u001b[38;5;241m==\u001b[39m \u001b[38;5;124m\"\u001b[39m\u001b[38;5;124m__main__\u001b[39m\u001b[38;5;124m\"\u001b[39m:\n\u001b[0;32m---> 63\u001b[0m     \u001b[43mmain\u001b[49m\u001b[43m(\u001b[49m\u001b[43m)\u001b[49m\n",
      "Cell \u001b[0;32mIn[3], line 46\u001b[0m, in \u001b[0;36mmain\u001b[0;34m()\u001b[0m\n\u001b[1;32m     44\u001b[0m \u001b[38;5;28;01mwhile\u001b[39;00m \u001b[38;5;129;01mnot\u001b[39;00m game_over:\n\u001b[1;32m     45\u001b[0m     print_board(board)\n\u001b[0;32m---> 46\u001b[0m     col \u001b[38;5;241m=\u001b[39m \u001b[38;5;28;43mint\u001b[39;49m\u001b[43m(\u001b[49m\u001b[38;5;28;43minput\u001b[39;49m\u001b[43m(\u001b[49m\u001b[38;5;124;43mf\u001b[39;49m\u001b[38;5;124;43m\"\u001b[39;49m\u001b[38;5;124;43mPlayer \u001b[39;49m\u001b[38;5;132;43;01m{\u001b[39;49;00m\u001b[43mcurrent_player\u001b[49m\u001b[38;5;132;43;01m}\u001b[39;49;00m\u001b[38;5;124;43m, choose a column (0-\u001b[39;49m\u001b[38;5;132;43;01m{\u001b[39;49;00m\u001b[43mCOLUMNS\u001b[49m\u001b[38;5;250;43m \u001b[39;49m\u001b[38;5;241;43m-\u001b[39;49m\u001b[38;5;250;43m \u001b[39;49m\u001b[38;5;241;43m1\u001b[39;49m\u001b[38;5;132;43;01m}\u001b[39;49;00m\u001b[38;5;124;43m): \u001b[39;49m\u001b[38;5;124;43m\"\u001b[39;49m\u001b[43m)\u001b[49m\u001b[43m)\u001b[49m\n\u001b[1;32m     48\u001b[0m     \u001b[38;5;28;01mif\u001b[39;00m col \u001b[38;5;241m<\u001b[39m \u001b[38;5;241m0\u001b[39m \u001b[38;5;129;01mor\u001b[39;00m col \u001b[38;5;241m>\u001b[39m\u001b[38;5;241m=\u001b[39m COLUMNS \u001b[38;5;129;01mor\u001b[39;00m is_column_full(board, col):\n\u001b[1;32m     49\u001b[0m         \u001b[38;5;28mprint\u001b[39m(\u001b[38;5;124m\"\u001b[39m\u001b[38;5;124mInvalid move. Try again.\u001b[39m\u001b[38;5;124m\"\u001b[39m)\n",
      "\u001b[0;31mValueError\u001b[0m: invalid literal for int() with base 10: ''"
     ]
    }
   ],
   "source": [
    "ROWS = 6\n",
    "COLUMNS = 7\n",
    "\n",
    "def create_board():\n",
    "    return [[\" \" for _ in range(COLUMNS)] for _ in range(ROWS)]\n",
    "\n",
    "def print_board(board):\n",
    "    for row in board:\n",
    "        print(\"|\" + \"|\".join(row) + \"|\")\n",
    "    print(\" \" + \" \".join(str(i) for i in range(COLUMNS)))\n",
    "\n",
    "def check_winner(board, player):\n",
    "    for c in range(COLUMNS - 3):\n",
    "        for r in range(ROWS):\n",
    "            if board[r][c] == player and board[r][c + 1] == player and board[r][c + 2] == player and board[r][c + 3] == player:\n",
    "                return True\n",
    "    for c in range(COLUMNS):\n",
    "        for r in range(ROWS - 3):\n",
    "            if board[r][c] == player and board[r + 1][c] == player and board[r + 2][c] == player and board[r + 3][c] == player:\n",
    "                return True\n",
    "    for c in range(COLUMNS - 3):\n",
    "        for r in range(ROWS - 3):\n",
    "            if board[r][c] == player and board[r + 1][c + 1] == player and board[r + 2][c + 2] == player and board[r + 3][c + 3] == player:\n",
    "                return True\n",
    "    for c in range(COLUMNS - 3):\n",
    "        for r in range(3, ROWS):\n",
    "            if board[r][c] == player and board[r - 1][c + 1] == player and board[r - 2][c + 2] == player and board[r - 3][c + 3] == player:\n",
    "                return True\n",
    "    return False\n",
    "\n",
    "def is_column_full(board, col):\n",
    "    return board[0][col] != \" \"\n",
    "\n",
    "def get_next_available_row(board, col):\n",
    "    for r in range(ROWS - 1, -1, -1):\n",
    "        if board[r][col] == \" \":\n",
    "            return r\n",
    "\n",
    "def main():\n",
    "    board = create_board()\n",
    "    game_over = False\n",
    "    current_player = \"X\"\n",
    "\n",
    "    while not game_over:\n",
    "        print_board(board)\n",
    "        col = int(input(f\"Player {current_player}, choose a column (0-{COLUMNS - 1}): \"))\n",
    "\n",
    "        if col < 0 or col >= COLUMNS or is_column_full(board, col):\n",
    "            print(\"Invalid move. Try again.\")\n",
    "            continue\n",
    "\n",
    "        row = get_next_available_row(board, col)\n",
    "        board[row][col] = current_player\n",
    "\n",
    "        if check_winner(board, current_player):\n",
    "            print_board(board)\n",
    "            print(f\"Player {current_player} wins!\")\n",
    "            game_over = True\n",
    "\n",
    "        current_player = \"O\" if current_player == \"X\" else \"X\"\n",
    "\n",
    "if __name__ == \"__main__\":\n",
    "    main()\n"
   ]
  }
 ],
 "metadata": {
  "kernelspec": {
   "display_name": "venv",
   "language": "python",
   "name": "python3"
  },
  "language_info": {
   "codemirror_mode": {
    "name": "ipython",
    "version": 3
   },
   "file_extension": ".py",
   "mimetype": "text/x-python",
   "name": "python",
   "nbconvert_exporter": "python",
   "pygments_lexer": "ipython3",
   "version": "3.12.6"
  }
 },
 "nbformat": 4,
 "nbformat_minor": 2
}
