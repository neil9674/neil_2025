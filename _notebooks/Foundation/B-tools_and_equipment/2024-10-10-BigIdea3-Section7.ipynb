{
 "cells": [
  {
   "cell_type": "raw",
   "metadata": {
    "vscode": {
     "languageId": "raw"
    }
   },
   "source": [
    "---\n",
    "layout: post\n",
    "title:  Big Idea 3 Section 7\n",
    "author: Neil Chandra\n",
    "type: issues\n",
    "description: Popcorn hacks and Homework for Section 7 of Big Idea 3\n",
    "toc: true\n",
    "comments: true\n",
    "---"
   ]
  },
  {
   "cell_type": "markdown",
   "metadata": {},
   "source": [
    "## Big Idea 3 Section 7"
   ]
  },
  {
   "cell_type": "markdown",
   "metadata": {},
   "source": [
    "### Popcorn Hack #1"
   ]
  },
  {
   "cell_type": "code",
   "execution_count": 1,
   "metadata": {},
   "outputs": [
    {
     "name": "stdout",
     "output_type": "stream",
     "text": [
      "You are not old enough.\n"
     ]
    }
   ],
   "source": [
    "age = int(input(\"Enter your age: \"))\n",
    "likes_sweets = input(\"Do you want to get your drivers license? Type yes or no: \").lower()\n",
    "\n",
    "if age >= 16:\n",
    "    if likes_sweets == \"yes\":\n",
    "        print(\"Alright, you can start your driving lessons!\")\n",
    "    else:\n",
    "        print(\"Why don't you want to get your drivers license?\")\n",
    "else:\n",
    "    print(\"You are not old enough.\")"
   ]
  },
  {
   "cell_type": "code",
   "execution_count": 8,
   "metadata": {
    "vscode": {
     "languageId": "javascript"
    }
   },
   "outputs": [
    {
     "data": {
      "application/javascript": "\nlet age = parseInt(18);\nlet wantsLicense = \"yes\";\n\nif (age >= 16) {\n    if (wantsLicense === \"yes\") {\n        console.log(\"Alright, you can start your driving lessons!\");\n    } else {\n        console.log(\"Why don't you want to get your drivers license?\");\n    }\n} else {\n    console.log(\"You are not old enough.\");\n}\n",
      "text/plain": [
       "<IPython.core.display.Javascript object>"
      ]
     },
     "metadata": {},
     "output_type": "display_data"
    }
   ],
   "source": [
    "%%js\n",
    "\n",
    "let age = parseInt(18);\n",
    "let wantsLicense = \"yes\";\n",
    "\n",
    "if (age >= 16) {\n",
    "    if (wantsLicense === \"yes\") {\n",
    "        console.log(\"Alright, you can start your driving lessons!\");\n",
    "    } else {\n",
    "        console.log(\"Why don't you want to get your drivers license?\");\n",
    "    }\n",
    "} else {\n",
    "    console.log(\"You are not old enough.\");\n",
    "}"
   ]
  },
  {
   "cell_type": "markdown",
   "metadata": {},
   "source": [
    "### Popcorn Hack #2"
   ]
  },
  {
   "cell_type": "code",
   "execution_count": 9,
   "metadata": {},
   "outputs": [
    {
     "name": "stdout",
     "output_type": "stream",
     "text": [
      "You can buy the jacket!\n"
     ]
    }
   ],
   "source": [
    "money = 373\n",
    "\n",
    "jacket_price = 24\n",
    "shirt_price = 18\n",
    "jeans_price = 33\n",
    "\n",
    "if money >= jacket_price:\n",
    "    print(\"You can buy the jacket!\")\n",
    "elif money >= shirt_price:\n",
    "    print(\"You can buy the shirt!\")\n",
    "elif money >= jeans_price:\n",
    "    print(\"You can buy the jeans!\")\n",
    "else:\n",
    "    print(\"You don't have enough money to buy clothing.\")"
   ]
  },
  {
   "cell_type": "markdown",
   "metadata": {},
   "source": [
    "### Popcorn Hack #3"
   ]
  },
  {
   "cell_type": "code",
   "execution_count": 11,
   "metadata": {
    "vscode": {
     "languageId": "javascript"
    }
   },
   "outputs": [
    {
     "data": {
      "application/javascript": "let is_school_open = true;\nlet want_to_go_to_school = false;\n\nif (is_school_open) {\n    console.log(\"School is open.\");\n\n    if (want_to_go_to_school) {\n        console.log(\"You can go to school.\");\n    } else {\n        console.log(\"You can skip school.\");\n    }\n} else {\n    console.log(\"You can stay home because its a holiday.\");\n}\n",
      "text/plain": [
       "<IPython.core.display.Javascript object>"
      ]
     },
     "metadata": {},
     "output_type": "display_data"
    }
   ],
   "source": [
    "%%js\n",
    "let is_school_open = true;\n",
    "let want_to_go_to_school = false;\n",
    "\n",
    "if (is_school_open) {\n",
    "    console.log(\"School is open.\");\n",
    "\n",
    "    if (want_to_go_to_school) {\n",
    "        console.log(\"You can go to school.\");\n",
    "    } else {\n",
    "        console.log(\"You can skip school.\");\n",
    "    }\n",
    "} else {\n",
    "    console.log(\"You can stay home because its a holiday.\");\n",
    "}"
   ]
  },
  {
   "cell_type": "markdown",
   "metadata": {},
   "source": [
    "### Homework 1"
   ]
  },
  {
   "cell_type": "code",
   "execution_count": 16,
   "metadata": {},
   "outputs": [
    {
     "name": "stdout",
     "output_type": "stream",
     "text": [
      "Great! You can play with the older kids.\n"
     ]
    }
   ],
   "source": [
    "child_age = int(input(\"Whats your age?: \"))\n",
    "child_has_ball = input(\"Do you have a ball? Type yes or no: \").lower()\n",
    "\n",
    "if child_age >= 5 and child_has_ball == \"yes\":\n",
    "    if child_age < 8:\n",
    "        message = \"You can play with the younger kids.\"\n",
    "    else:\n",
    "        message = \"You can play with the older kids.\"\n",
    "\n",
    "    print(f\"Great! {message}\")\n",
    "else:\n",
    "    print(\"Sorry, you can't join the game yet.\")"
   ]
  }
 ],
 "metadata": {
  "kernelspec": {
   "display_name": "venv",
   "language": "python",
   "name": "python3"
  },
  "language_info": {
   "codemirror_mode": {
    "name": "ipython",
    "version": 3
   },
   "file_extension": ".py",
   "mimetype": "text/x-python",
   "name": "python",
   "nbconvert_exporter": "python",
   "pygments_lexer": "ipython3",
   "version": "3.12.6"
  }
 },
 "nbformat": 4,
 "nbformat_minor": 2
}
