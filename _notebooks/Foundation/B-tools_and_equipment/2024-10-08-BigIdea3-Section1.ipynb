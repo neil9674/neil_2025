{
 "cells": [
  {
   "cell_type": "raw",
   "metadata": {
    "vscode": {
     "languageId": "raw"
    }
   },
   "source": [
    "---\n",
    "layout: post\n",
    "title:  Big Idea 3 Section 4\n",
    "author: Neil Chandra\n",
    "type: issues\n",
    "description: Popcorn hacks and Homework for Section 4 of Big Idea 3\n",
    "toc: true\n",
    "comments: true\n",
    "---"
   ]
  },
  {
   "cell_type": "markdown",
   "metadata": {
    "vscode": {
     "languageId": "raw"
    }
   },
   "source": [
    "## Big Idea 3 Section 1"
   ]
  },
  {
   "cell_type": "markdown",
   "metadata": {},
   "source": [
    "### Popcorn Hack #1"
   ]
  },
  {
   "cell_type": "code",
   "execution_count": 2,
   "metadata": {
    "vscode": {
     "languageId": "javascript"
    }
   },
   "outputs": [
    {
     "data": {
      "application/javascript": "\nvar fruitdictionary = {\n    1: \"Apples 🍎\",\n    2: \"Oranges 🍊\",\n    3: \"Pears 🍐\"\n};\n\nconsole.log(\"Here is the first fruit: \", fruitdictionary[1]);\nconsole.log(\"Here is the second fruit: \", fruitdictionary[2]);\nconsole.log(\"Here is the third fruit: \", fruitdictionary[3])\n",
      "text/plain": [
       "<IPython.core.display.Javascript object>"
      ]
     },
     "metadata": {},
     "output_type": "display_data"
    }
   ],
   "source": [
    "%%js\n",
    "\n",
    "var fruitdictionary = {\n",
    "    1: \"Apples 🍎\",\n",
    "    2: \"Oranges 🍊\",\n",
    "    3: \"Pears 🍐\"\n",
    "};\n",
    "\n",
    "console.log(\"Here is the first fruit: \", fruitdictionary[1]);\n",
    "console.log(\"Here is the second fruit: \", fruitdictionary[2]);\n",
    "console.log(\"Here is the third fruit: \", fruitdictionary[3])"
   ]
  },
  {
   "cell_type": "markdown",
   "metadata": {},
   "source": [
    "### Popcorn Hack #2"
   ]
  },
  {
   "cell_type": "code",
   "execution_count": 5,
   "metadata": {},
   "outputs": [
    {
     "name": "stdout",
     "output_type": "stream",
     "text": [
      "What is 2 - 14?\n",
      "Correct!\n",
      "What is 18 * 14?\n",
      "Wrong.\n",
      "What is 9 / 5?\n",
      "Wrong.\n",
      "What is 1 / 8?\n",
      "Correct!\n",
      "What is 6 + 9?\n",
      "Correct!\n",
      "What is 4 + 13?\n",
      "Your final score is: 3\n"
     ]
    }
   ],
   "source": [
    "import random\n",
    "\n",
    "def play_game():\n",
    "    score = 0\n",
    "\n",
    "    while True:\n",
    "        num1 = random.randint(1, 20)\n",
    "        num2 = random.randint(1, 20)\n",
    "        operator = random.choice(['+', '-', '*', '/'])\n",
    "        \n",
    "        if operator == '+':\n",
    "            correct_answer = num1 + num2\n",
    "        elif operator == '-':\n",
    "            correct_answer = num1 - num2\n",
    "        elif operator == '/':\n",
    "            correct_answer = num1 // num2\n",
    "        else:\n",
    "            correct_answer = num1 * num2\n",
    "        \n",
    "        print(f\"What is {num1} {operator} {num2}?\")\n",
    "        player_answer = input(\"Your answer (or type 'q' to quit): \")\n",
    "        \n",
    "        if player_answer.lower() == 'q':\n",
    "            break\n",
    "        \n",
    "        if int(player_answer) == correct_answer:\n",
    "            print(\"Correct!\")\n",
    "            score += 1\n",
    "        else:\n",
    "            print(f\"Wrong.\")\n",
    "    \n",
    "    print(f\"Your final score is: {score}\")\n",
    "\n",
    "play_game()\n"
   ]
  },
  {
   "cell_type": "markdown",
   "metadata": {},
   "source": [
    "### Popcorn Hack #3"
   ]
  },
  {
   "cell_type": "code",
   "execution_count": 12,
   "metadata": {},
   "outputs": [
    {
     "name": "stdout",
     "output_type": "stream",
     "text": [
      "12.0°F is has been converted to -11.11°C\n"
     ]
    }
   ],
   "source": [
    "def temp_changer():\n",
    "    temperature = float(input(\"Enter the temperature: \"))\n",
    "    conversion_type = input(\"Convert to Celsius or Fahrenheit? \").strip().upper()\n",
    "\n",
    "    if conversion_type == \"C\":\n",
    "        pass\n",
    "        celsius = (temperature - 32) * (5 / 9)\n",
    "        print(f\"{temperature}°F is has been converted to {celsius:.2f}°C\")\n",
    "\n",
    "    elif conversion_type == \"F\":\n",
    "        pass\n",
    "        fahrenheit = (temperature * (9 / 5)) + 32\n",
    "        print(f\"{temperature}°C has been converted to {fahrenheit:.2f}°F\")\n",
    "\n",
    "    else:\n",
    "        print(\"You cannot enter anything other than 'C' for Celsius or 'F' for Fahrenheit.\")\n",
    "\n",
    "temp_changer()"
   ]
  },
  {
   "cell_type": "markdown",
   "metadata": {},
   "source": [
    "### Python Homework "
   ]
  },
  {
   "cell_type": "code",
   "execution_count": 13,
   "metadata": {},
   "outputs": [
    {
     "name": "stdout",
     "output_type": "stream",
     "text": [
      "['bananas', 'apples']\n",
      "37\n"
     ]
    }
   ],
   "source": [
    "shopping_list = []\n",
    "total_cost = 0\n",
    "\n",
    "while True:\n",
    "    item_name = input(\"Enter the name of the item, if you are done adding type 'done': \")\n",
    "    \n",
    "    if item_name.lower() == 'done':\n",
    "        break\n",
    "    \n",
    "    item_price = int(input(\"Enter the price of the item: \"))\n",
    "    \n",
    "    shopping_list.append(item_name)\n",
    "    total_cost += item_price\n",
    "\n",
    "print(shopping_list)\n",
    "print(total_cost)"
   ]
  },
  {
   "cell_type": "markdown",
   "metadata": {},
   "source": [
    "### Javascript Homework"
   ]
  },
  {
   "cell_type": "code",
   "execution_count": null,
   "metadata": {
    "vscode": {
     "languageId": "javascript"
    }
   },
   "outputs": [],
   "source": [
    "%%js\n",
    "\n",
    "let ingredients = [];\n",
    "let conversionrates = {\n",
    "    cuptotablespoons: 16,\n",
    "    tablespoontoteaspoons: 3,\n",
    "    cuptoteaspoons: 48\n",
    "};\n",
    "\n",
    "while (true) {\n",
    "    let ingredientname = prompt(\"Please enter the name of the ingredient, and if you're done, type 'done': \").toLowerCase();\n",
    "    \n",
    "    if (ingredientname === 'done') {\n",
    "        break;\n",
    "    }\n",
    "    \n",
    "    let quantity = parseFloat(prompt(\"Enter the quantity of the ingredient:\"));\n",
    "    let currentunit = prompt(\"Enter the current unit (cups, tablespoons, teaspoons):\").toLowerCase();\n",
    "    let desiredunit = prompt(\"Enter the desired unit to convert to (cups, tablespoons, teaspoons):\").toLowerCase();\n",
    "    \n",
    "    let convertedquantity;\n",
    "\n",
    "    if (currentunit === 'cups') {\n",
    "        if (desiredunit === 'tablespoons') {\n",
    "            convertedquantity = quantity * conversionrates.cuptotablespoons;\n",
    "        } else if (desiredunit === 'teaspoons') {\n",
    "            convertedquantity = quantity * conversionrates.cuptoteaspoons;\n",
    "        }\n",
    "    } else if (currentunit === 'tablespoons') {\n",
    "        if (desiredunit === 'cups') {\n",
    "            convertedquantity = quantity / conversionrates.cuptotablespoons;\n",
    "        } else if (desiredunit === 'teaspoons') {\n",
    "            convertedquantity = quantity * conversionrates.tablespoontoteaspoons;\n",
    "        }\n",
    "    } else if (currentunit === 'teaspoons') {\n",
    "        if (desiredunit === 'cups') {\n",
    "            convertedquantity = quantity / conversionrates.cuptoteaspoons;\n",
    "        } else if (desiredunit === 'tablespoons') {\n",
    "            convertedquantity = quantity / conversionrates.tablespoontoteaspoons;\n",
    "        }\n",
    "    }\n",
    "\n",
    "    ingredients.push({\n",
    "        name: ingredientname,\n",
    "        originalquantity: `${quantity} ${currentunit}`,\n",
    "        convertedquantity: `${convertedquantity.toFixed(2)} ${desiredunit}`\n",
    "    });\n",
    "}\n",
    "\n",
    "console.log(\"Converted ingredient list:\");\n",
    "ingredients.forEach(ingredient => {\n",
    "    console.log(`${ingredient.name}: ${ingredient.originalquantity} -> ${ingredient.convertedquantity}`);\n",
    "});\n"
   ]
  }
 ],
 "metadata": {
  "kernelspec": {
   "display_name": "venv",
   "language": "python",
   "name": "python3"
  },
  "language_info": {
   "codemirror_mode": {
    "name": "ipython",
    "version": 3
   },
   "file_extension": ".py",
   "mimetype": "text/x-python",
   "name": "python",
   "nbconvert_exporter": "python",
   "pygments_lexer": "ipython3",
   "version": "3.12.6"
  }
 },
 "nbformat": 4,
 "nbformat_minor": 2
}
