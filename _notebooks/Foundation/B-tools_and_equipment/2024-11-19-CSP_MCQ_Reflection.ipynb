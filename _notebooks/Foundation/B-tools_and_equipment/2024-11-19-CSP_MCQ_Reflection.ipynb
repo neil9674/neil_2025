{
 "cells": [
  {
   "cell_type": "raw",
   "metadata": {
    "vscode": {
     "languageId": "raw"
    }
   },
   "source": [
    "---\n",
    "layout: post\n",
    "title:  MCQ Final Reflection\n",
    "author: Neil Chandra\n",
    "type: issues\n",
    "description: Full reflection of the mistakes, strengths, and weaknesses that I discovered during the Multiple Choice Questions\n",
    "toc: true\n",
    "comments: true\n",
    "---"
   ]
  },
  {
   "cell_type": "markdown",
   "metadata": {},
   "source": [
    "## Reflection of my Learning"
   ]
  },
  {
   "cell_type": "markdown",
   "metadata": {},
   "source": [
    "> - During the MCQ, I discovered some of my core strengths and weaknesses. While I knew how to do the majority of the questinos, I realized that I didn't know how to do many of the \"code segment\" or \"flowchart\" questions. To improve, I should search up MCQ questions online, and then use those to practice. On the other hand, I noticed that I got many of the theory or application problems right.\n",
    "> - These weaknesses outlined can be easily fixed with a little bit of practice. To reflect on the questions I got wrong, I went back and looked at what I got wrong. I did the corrections for a couple of them below."
   ]
  },
  {
   "cell_type": "markdown",
   "metadata": {},
   "source": [
    "## Corrections\n",
    "\n",
    "### First Wrong Question Example + Correction\n",
    "<img src=\"../../../images/question1.png\">\n",
    "\n",
    "I got this question wrong because I failed to read the answer properly, the code segment moves it forward one square in the first step, but then fails to rotate it three times (it only rotates right once), causing the path to get messed up. However, option A would work because it rotates three times in the second step, allowing it to make the entire path.\n",
    "\n",
    "### Second Wrong Question Example + Correction\n",
    "<img src=\"../../../images/question2.png\">\n",
    "\n",
    "I got this question wrong, because I did not realize that the robot would not be able to move right at all, rendering the code segment useless because the robot wouldn't actually move. Option A, however, would work because WHENEVER the robot is able to move right, it will, and then outside of the function is an option to move forward, ensuring that the robot is actually able to move, slowly turning right each way until it reaches the gray square.\n",
    "\n",
    "### Third Wrong Question Example + Correction\n",
    "<img src=\"../../../images/question3.png\">\n",
    "\n",
    "I got this question wrong because I misread the question, interpreting it as the variable of the \"midterm_score\" being replaced, when in reality the incorrect answer code segment led to the \"final exam score\" being replaced. The correct answer would be option B, because it does the above.\n",
    "\n",
    "### Fourth Wrong Question Example + Correction\n",
    "<img src=\"../../../images/question4.png\">\n",
    "\n",
    "I got this question wrong because I didn't understand the concept. In reality, both option 2 and 3 would work, because the function could first keep the palindroms --> shorten --> sort, and the other sequence would work as well, in creating a successful palindrome. Next time, I need to read the question more carefully.\n",
    "\n",
    "### Fifth Wrong Question Example + Correction\n",
    "<img src=\"../../../images/question5.png\">\n",
    "\n",
    "I got this question wrong, if you actually went through the code segment, the output would end up being 19. The desired output that we need is 9 which would be evidenced by Option D.\n",
    "\n",
    "### Sixth Wrong Question \n",
    "<img src=\"../../../images/question6.png\">\n",
    "\n",
    "I got this questino wrong because I misread the answer, if you went through the sequence of code, it would end up outputting \"Hapy\", while answer B would correctly concatenate the string, leading to an option of \"Happy\"\n",
    "\n",
    "### Conclusion\n",
    "\n",
    "To conlcude, if I praticed online MCQs, I would be able to improve my score. Thank you."
   ]
  }
 ],
 "metadata": {
  "language_info": {
   "name": "python"
  }
 },
 "nbformat": 4,
 "nbformat_minor": 2
}
