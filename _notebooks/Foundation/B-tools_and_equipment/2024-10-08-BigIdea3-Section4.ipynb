{
 "cells": [
  {
   "cell_type": "raw",
   "metadata": {
    "vscode": {
     "languageId": "raw"
    }
   },
   "source": [
    "---\n",
    "layout: post\n",
    "title:  Big Idea 3 Section 4\n",
    "author: Neil Chandra\n",
    "type: issues\n",
    "description: Popcorn hacks and Homework for Section 4 of Big Idea 3\n",
    "toc: true\n",
    "comments: true\n",
    "---"
   ]
  },
  {
   "cell_type": "markdown",
   "metadata": {},
   "source": [
    "## Big Idea 3 Section 4"
   ]
  },
  {
   "cell_type": "markdown",
   "metadata": {},
   "source": [
    "### Popcorn Hack #1"
   ]
  },
  {
   "cell_type": "code",
   "execution_count": 34,
   "metadata": {
    "vscode": {
     "languageId": "javascript"
    }
   },
   "outputs": [
    {
     "data": {
      "application/javascript": "\n\nlet nameMovie = \"Tenet\";\nlet nameSport = \"Football\";\nlet namePet = \"Rikki\";\n\n\nlet concatenatedMessage = \"I like watching \" + nameMovie + \". In my free time, I enjoy playing \" + nameSport + \" with my friends. I have a pet who's name is \" + namePet + \".\";\n\n\nlet interpolatedMessage = `I like watching ${nameMovie}. In my free time, I enjoy playing ${nameSport} and my pet's name is ${namePet}.`;\n\nconsole.log(concatenatedMessage)\nconsole.log(interpolatedMessage)\n",
      "text/plain": [
       "<IPython.core.display.Javascript object>"
      ]
     },
     "metadata": {},
     "output_type": "display_data"
    }
   ],
   "source": [
    "%%js\n",
    "\n",
    "\n",
    "let nameMovie = \"Tenet\";\n",
    "let nameSport = \"Football\";\n",
    "let namePet = \"Rikki\";\n",
    "\n",
    "\n",
    "let concatenatedMessage = \"I like watching \" + nameMovie + \". In my free time, I enjoy playing \" + nameSport + \" with my friends. I have a pet who's name is \" + namePet + \".\";\n",
    "\n",
    "\n",
    "let interpolatedMessage = `I like watching ${nameMovie}. In my free time, I enjoy playing ${nameSport} and my pet's name is ${namePet}.`;\n",
    "\n",
    "console.log(concatenatedMessage)\n",
    "console.log(interpolatedMessage)"
   ]
  },
  {
   "cell_type": "markdown",
   "metadata": {},
   "source": [
    "### Popcorn Hack #2"
   ]
  },
  {
   "cell_type": "code",
   "execution_count": 35,
   "metadata": {
    "vscode": {
     "languageId": "javascript"
    }
   },
   "outputs": [
    {
     "data": {
      "application/javascript": "\n\nlet phrase = \"A journey of a thousand miles begins with a single step\";\n\n\nlet journeyvar = phrase.slice(2, 9);\nlet milesvar = phrase.slice(-31, -25);\nlet begindstoendvar = phrase.slice(30);\n\n\nconsole.log(journeyvar);\nconsole.log(milesvar);\nconsole.log(begindstoendvar);\n",
      "text/plain": [
       "<IPython.core.display.Javascript object>"
      ]
     },
     "metadata": {},
     "output_type": "display_data"
    }
   ],
   "source": [
    "%%js\n",
    "\n",
    "\n",
    "let phrase = \"A journey of a thousand miles begins with a single step\";\n",
    "\n",
    "\n",
    "let journeyvar = phrase.slice(2, 9);\n",
    "let milesvar = phrase.slice(-31, -25);\n",
    "let begindstoendvar = phrase.slice(30);\n",
    "\n",
    "\n",
    "console.log(journeyvar);\n",
    "console.log(milesvar);\n",
    "console.log(begindstoendvar);"
   ]
  },
  {
   "cell_type": "markdown",
   "metadata": {},
   "source": [
    "### Popcorn Hack #3"
   ]
  },
  {
   "cell_type": "code",
   "execution_count": 36,
   "metadata": {},
   "outputs": [
    {
     "name": "stdout",
     "output_type": "stream",
     "text": [
      "Pytho s vry fu aguag to ar, but  joy HTM mor!\n"
     ]
    }
   ],
   "source": [
    "def remove_vowels(input_str):\n",
    "    vowels = \"neilNEIL\"\n",
    "    result = ''.join([char for char in input_str if char not in vowels])\n",
    "    return result\n",
    "\n",
    "sentence = \"Python is very fun language to learn, but I enjoy HTML more!\"\n",
    "print(remove_vowels(sentence))\n"
   ]
  },
  {
   "cell_type": "markdown",
   "metadata": {},
   "source": [
    "### Reverse Popcorn Hack"
   ]
  },
  {
   "cell_type": "code",
   "execution_count": 26,
   "metadata": {},
   "outputs": [
    {
     "name": "stdout",
     "output_type": "stream",
     "text": [
      "coding! love I\n",
      "racecar\n",
      "function cool really a is this\n"
     ]
    }
   ],
   "source": [
    "# I added a input statement to take the user input\n",
    "\n",
    "def reverse_words(input_str):\n",
    "    words = input_str.split()\n",
    "    reversed_words = \" \".join(words[::-1])\n",
    "    return reversed_words\n",
    "\n",
    "sentence = \"I love coding!\"\n",
    "print(reverse_words(sentence))\n",
    "\n",
    "sentence1 = \"racecar\"\n",
    "print(reverse_words(sentence1))\n",
    "\n",
    "sentence2 = input(\"Enter a phrase here: \")\n",
    "print(reverse_words(sentence2))"
   ]
  },
  {
   "cell_type": "markdown",
   "metadata": {},
   "source": [
    "### Homework 1"
   ]
  },
  {
   "cell_type": "code",
   "execution_count": 37,
   "metadata": {
    "vscode": {
     "languageId": "javascript"
    }
   },
   "outputs": [
    {
     "data": {
      "application/javascript": "let first = \"Neil\";\nlet last = \"Chandra\";\n\nlet greetingMessage = \"Hello, \" + first + \" \" + last + \"!\";\n\nconsole.log(greetingMessage);\n",
      "text/plain": [
       "<IPython.core.display.Javascript object>"
      ]
     },
     "metadata": {},
     "output_type": "display_data"
    }
   ],
   "source": [
    "%%js\n",
    "let first = \"Neil\";\n",
    "let last = \"Chandra\";\n",
    "\n",
    "let greetingMessage = \"Hello, \" + first + \" \" + last + \"!\";\n",
    "\n",
    "console.log(greetingMessage);"
   ]
  },
  {
   "cell_type": "markdown",
   "metadata": {},
   "source": [
    "### Homework 2"
   ]
  },
  {
   "cell_type": "code",
   "execution_count": 33,
   "metadata": {},
   "outputs": [
    {
     "name": "stdout",
     "output_type": "stream",
     "text": [
      "'racecar' is a palindrome\n"
     ]
    }
   ],
   "source": [
    "def check_palindrome(word):\n",
    "    word = word.lower()\n",
    "    return word == word[::-1]\n",
    "\n",
    "input_word = input(\"Pls enter a word: \")\n",
    "\n",
    "if check_palindrome(input_word):\n",
    "    print(f\"'{input_word}' is a palindrome\")\n",
    "else:\n",
    "    print(f\"'{input_word}' is not a palindrome\")\n"
   ]
  }
 ],
 "metadata": {
  "kernelspec": {
   "display_name": "venv",
   "language": "python",
   "name": "python3"
  },
  "language_info": {
   "codemirror_mode": {
    "name": "ipython",
    "version": 3
   },
   "file_extension": ".py",
   "mimetype": "text/x-python",
   "name": "python",
   "nbconvert_exporter": "python",
   "pygments_lexer": "ipython3",
   "version": "3.12.6"
  }
 },
 "nbformat": 4,
 "nbformat_minor": 2
}
