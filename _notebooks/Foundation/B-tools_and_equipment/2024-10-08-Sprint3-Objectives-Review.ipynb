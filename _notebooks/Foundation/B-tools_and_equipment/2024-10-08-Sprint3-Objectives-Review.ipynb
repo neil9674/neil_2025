{
 "cells": [
  {
   "cell_type": "raw",
   "metadata": {
    "vscode": {
     "languageId": "raw"
    }
   },
   "source": [
    "---\n",
    "layout: post\n",
    "title:  Sprint 3 Final Objectives - Neil C\n",
    "author: Neil Chandra\n",
    "type: issues\n",
    "description: Live Review Blog for the Spring 3 Final Objectives with Mr. Mortinson.\n",
    "toc: true\n",
    "comments: true\n",
    "---"
   ]
  },
  {
   "cell_type": "markdown",
   "metadata": {},
   "source": [
    "### Sprint 3 Objectives"
   ]
  },
  {
   "cell_type": "markdown",
   "metadata": {},
   "source": [
    "### My Takeaways from CSP ⭐️\n",
    "> - Throughout my coding journey, CSP has been an interesting experience for me because it challenged me even though I had past experience in Python and Javascript. \n",
    "> - Additionally, it taught me how to work side by side with other coders on a large project, in a corporate style environment. Considering that I plan to go into a software or engineering field, this experience will end up being invaluable for me.\n",
    "> - This trimester was fun for me. I feel that out of all my classes, this is the one that would ultimately end up being the most useful for me, because of our world's shift to a more tech-oriented focus."
   ]
  },
  {
   "cell_type": "markdown",
   "metadata": {},
   "source": [
    "### What Sprint 3 has taught me 💻\n",
    "> - To elaborate, Sprint 3 was likely the most important lesson for me. It gave me a chance to take what I had learned and display it in a professional, fully functional website alongside my peers (collaborators). \n",
    "> - It helped me understand how to intergrate a backend to store information and posts, effectively providing the entire functionality for the website. It also helped me with understanding how to integrate the frontend with the backend to create a cohesive website.\n",
    "> - I got experience with designing a website, making it look professional, sleek, aesthetic, and simple, all at the same time to create a visually appealing and efficiently designed website.\n",
    "> - It taught me to collaborate with my peers efficiently, both in class and outside of the CSP classroom, (on slack).\n",
    "> - Overall, I struggled the most with the CSS and formatting, because there are many other elements that could interfere with the styling in an HTML page."
   ]
  },
  {
   "cell_type": "markdown",
   "metadata": {},
   "source": [
    "### Lastly, my contributions 💼\n",
    "> - To start off, I created a large part of the Front End aspect of the website. This included designing the home, game, and about page on Figma, and then implementing it in code. [Figma](https://www.figma.com/design/0fkn4vCGZvJeiaE47suJdW/Flocker-Room?node-id=0-1&node-type=canvas&t=cWRwdPDhZplDTdrK-0)\n",
    "> - Here is what I created on the Sprint 3 Project:\n",
    "> - I created the posts option to display posts from users on the Home Page. [Home Page](https://nighthawkcoders.github.io/flocker_frontend/create_and_compete/realityroom-home)\n",
    "> - I created the posts that would display from the above option.\n",
    "> - I created the side bar for users to navigate the website (Home, Game, About, and Terms)\n",
    "> - I created the About page with the full description of the website, as well as the terms page (I did not create the terms itself, however)\n",
    "> - I added the API to the Game page that would supplement the main functionality of the game aspect of our website. (I used Postman to test it, and the AI was Google Gemini) [Game Page](https://nighthawkcoders.github.io/flocker_frontend/create_and_compete/reality_game)\n",
    "> - I edited the Game page to include instructions for how to play, as well as functionality for the user to make a guess whether it was was Human vs. AI. [Game Page](https://nighthawkcoders.github.io/flocker_frontend/create_and_compete/reality_game)"
   ]
  },
  {
   "cell_type": "markdown",
   "metadata": {},
   "source": [
    "> - Thanks for listening."
   ]
  }
 ],
 "metadata": {
  "language_info": {
   "name": "python"
  }
 },
 "nbformat": 4,
 "nbformat_minor": 2
}
