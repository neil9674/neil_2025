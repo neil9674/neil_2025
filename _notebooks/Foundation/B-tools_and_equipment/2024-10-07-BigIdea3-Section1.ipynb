{
 "cells": [
  {
   "cell_type": "raw",
   "metadata": {
    "vscode": {
     "languageId": "raw"
    }
   },
   "source": [
    "---\n",
    "layout: post\n",
    "title:  Big Idea 3 Section 1\n",
    "author: Neil Chandra\n",
    "type: issues\n",
    "description: Popcorn hacks and Homework for Section 1 of Big Idea 3\n",
    "toc: true\n",
    "comments: true\n",
    "---"
   ]
  },
  {
   "cell_type": "code",
   "execution_count": null,
   "metadata": {},
   "outputs": [
    {
     "name": "stdout",
     "output_type": "stream",
     "text": [
      "Welcome to the Math Quiz Game!\n",
      "Answer as many questions as you can. Type 'q' to quit anytime.\n",
      "\n",
      "What is 9 + 16?\n",
      "Correct!\n",
      "What is 16 - 2?\n",
      "Correct!\n",
      "What is 20 * 8?\n",
      "Correct!\n",
      "What is 15 - 16?\n",
      "Correct!\n",
      "What is 12 - 10?\n",
      "Correct!\n",
      "What is 5 - 9?\n",
      "Correct!\n",
      "What is 12 * 10?\n",
      "Correct!\n",
      "What is 7 * 12?\n",
      "Correct!\n",
      "What is 18 // 4?\n",
      "Invalid input, please enter a number or 'q' to quit.\n",
      "What is 10 // 7?\n",
      "Correct!\n",
      "What is 1 * 19?\n",
      "Thanks for playing! Your final score is 9.\n"
     ]
    }
   ],
   "source": [
    "import random\n",
    "\n",
    "def play_game():\n",
    "    score = 0\n",
    "    operators = ['+', '-', '*', '//']\n",
    "\n",
    "    print(\"Welcome to the Math Quiz Game!\")\n",
    "    print(\"Answer as many questions as you can. Type 'q' to quit anytime.\\n\")\n",
    "\n",
    "    while True:\n",
    "        # Generate two random numbers and choose a random operator\n",
    "        num1 = random.randint(1, 20)\n",
    "        num2 = random.randint(1, 20)\n",
    "        op = random.choice(operators)\n",
    "\n",
    "        # Calculate the correct answer based on the operator\n",
    "        if op == '+':\n",
    "            answer = num1 + num2\n",
    "        elif op == '-':\n",
    "            answer = num1 - num2\n",
    "        elif op == '*':\n",
    "            answer = num1 * num2\n",
    "        else:\n",
    "            answer = num1 // num2\n",
    "            \n",
    "\n",
    "        # Ask the player the question\n",
    "        print(f\"What is {num1} {op} {num2}?\")\n",
    "        player_input = input(\"Your answer (or type 'q' to quit): \")\n",
    "\n",
    "        # Check if the player wants to quit\n",
    "        if player_input.lower() == 'q':\n",
    "            break\n",
    "\n",
    "        # Check if the answer is correct\n",
    "        try:\n",
    "            player_answer = int(player_input)\n",
    "            if player_answer == answer:\n",
    "                print(\"Correct!\")\n",
    "                score += 1\n",
    "            else:\n",
    "                print(f\"Oops! The correct answer was {answer}.\")\n",
    "        except ValueError:\n",
    "            print(\"Invalid input, please enter a number or 'q' to quit.\")\n",
    "\n",
    "    print(f\"Thanks for playing! Your final score is {score}.\")\n",
    "\n",
    "# Start the game\n",
    "play_game()\n"
   ]
  }
 ],
 "metadata": {
  "language_info": {
   "name": "python"
  }
 },
 "nbformat": 4,
 "nbformat_minor": 2
}
