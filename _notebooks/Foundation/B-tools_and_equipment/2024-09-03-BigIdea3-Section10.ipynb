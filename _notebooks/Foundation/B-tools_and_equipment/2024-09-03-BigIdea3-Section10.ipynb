{
 "cells": [
  {
   "cell_type": "raw",
   "metadata": {
    "vscode": {
     "languageId": "raw"
    }
   },
   "source": [
    "---\n",
    "layout: post\n",
    "title:  Big Idea 3 Section 10\n",
    "author: Neil Chandra\n",
    "type: issues\n",
    "description: Popcorn hacks and Homework for Section 10 of Big Idea 3\n",
    "toc: true\n",
    "comments: true\n",
    "---"
   ]
  },
  {
   "cell_type": "markdown",
   "metadata": {},
   "source": [
    "## Big Idea 3 Section 10"
   ]
  },
  {
   "cell_type": "markdown",
   "metadata": {
    "vscode": {
     "languageId": "raw"
    }
   },
   "source": [
    "### Homework 1"
   ]
  },
  {
   "cell_type": "code",
   "execution_count": 12,
   "metadata": {},
   "outputs": [
    {
     "name": "stdout",
     "output_type": "stream",
     "text": [
      "[42, 'apple', 3.14, True, 'banana', 7]\n",
      "Removed item: 3.14\n",
      "[42, 'apple', True, 'banana', 7]\n"
     ]
    }
   ],
   "source": [
    "data_list = [42, \"apple\", 3.14, True, \"banana\", 7]\n",
    "\n",
    "print(data_list)\n",
    "\n",
    "user_data = input(\"Please enter an index number to remove the item from the list: \")\n",
    "\n",
    "index = int(user_data)\n",
    "    \n",
    "if 0 <= index < len(data_list):\n",
    "    removed_item = data_list.pop(index)\n",
    "    print(f\"Removed item: {removed_item}\")\n",
    "\n",
    "print(data_list)"
   ]
  },
  {
   "cell_type": "markdown",
   "metadata": {},
   "source": [
    "### Homework 2"
   ]
  },
  {
   "cell_type": "markdown",
   "metadata": {},
   "source": [
    "answers ← [\"yes\", \"no\"]\n",
    "questions ← [\"Do you like Python?\", \"Do you like Javascript?\"]\n",
    "\n",
    "DISPLAY (\"Question 1:\", questions[0])\n",
    "DISPLAY (\"Answer:\", answers[0])\n",
    "\n",
    "DISPLAY (\"Question 2:\", questions[1])\n",
    "DISPLAY (\"Answer:\", answers[1])"
   ]
  },
  {
   "cell_type": "code",
   "execution_count": 13,
   "metadata": {},
   "outputs": [
    {
     "name": "stdout",
     "output_type": "stream",
     "text": [
      "Question 1: Do you like Python?\n",
      "Answer: yes\n",
      "Question 2: Is the sky blue?\n",
      "Answer: no\n"
     ]
    }
   ],
   "source": [
    "answers = [\"yes\", \"no\"]\n",
    "questions = [\"Do you like Python?\", \"Is the sky blue?\"]\n",
    "\n",
    "print(\"Question 1:\", questions[0])\n",
    "print(\"Answer:\", answers[0])\n",
    "\n",
    "print(\"Question 2:\", questions[1])\n",
    "print(\"Answer:\", answers[1])"
   ]
  },
  {
   "cell_type": "markdown",
   "metadata": {},
   "source": [
    "### Homework 3"
   ]
  },
  {
   "cell_type": "markdown",
   "metadata": {},
   "source": [
    "nums ← [1, 2, 3, 4, 5, 6, 7, 8, 9, 10, 11, 12, 13, 14, 15, 16, 17, 18, 19, 20, 21, 22, 23, 24, 25, 26, 27, 28, 29, 30]\n",
    "even_sum ← 0\n",
    "odd_sum ← 0\n",
    "\n",
    "FOR EACH num IN nums\n",
    "    IF num MOD 2 = 0 THEN\n",
    "        even_sum ← even_sum + num\n",
    "    ELSE\n",
    "        odd_sum ← odd_sum + num\n",
    "    END IF\n",
    "END FOR\n",
    "\n",
    "DISPLAY (\"Sum of even numbers:\", even_sum)\n",
    "DISPLAY (\"Sum of odd numbers:\", odd_sum)"
   ]
  },
  {
   "cell_type": "code",
   "execution_count": 14,
   "metadata": {},
   "outputs": [
    {
     "name": "stdout",
     "output_type": "stream",
     "text": [
      "Sum of even numbers: 240\n",
      "Sum of odd numbers: 225\n"
     ]
    }
   ],
   "source": [
    "nums = [1, 2, 3, 4, 5, 6, 7, 8, 9, 10, 11, 12, 13, 14, 15, 16, 17, 18, 19, 20, 21, 22, 23, 24, 25, 26, 27, 28, 29, 30]\n",
    "even_sum = 0\n",
    "odd_sum = 0\n",
    "\n",
    "for num in nums:\n",
    "    if num % 2 == 0:\n",
    "        even_sum += num\n",
    "    else:\n",
    "        odd_sum += num\n",
    "\n",
    "print(\"Sum of even numbers:\", even_sum)\n",
    "print(\"Sum of odd numbers:\", odd_sum)"
   ]
  },
  {
   "cell_type": "markdown",
   "metadata": {},
   "source": [
    "### Homework 4"
   ]
  },
  {
   "cell_type": "code",
   "execution_count": 15,
   "metadata": {},
   "outputs": [
    {
     "name": "stdout",
     "output_type": "stream",
     "text": [
      "Reading\n",
      "Hiking\n",
      "Cooking\n",
      "Gaming\n",
      "Photography\n"
     ]
    }
   ],
   "source": [
    "hobbies = [\"Reading\", \"Hiking\", \"Cooking\", \"Gaming\", \"Photography\"]\n",
    "\n",
    "for hobby in hobbies:\n",
    "    print(hobby)"
   ]
  },
  {
   "cell_type": "markdown",
   "metadata": {},
   "source": [
    "### Popcorn Hack #1"
   ]
  },
  {
   "cell_type": "code",
   "execution_count": 16,
   "metadata": {},
   "outputs": [
    {
     "name": "stdout",
     "output_type": "stream",
     "text": [
      "Adding Numbers In List Script\n",
      "-------------------------\n",
      "Added 24 to list.\n",
      "Added 35 to list.\n",
      "Added 78 to list.\n",
      "Sum of numbers in list is 137\n",
      "Added 22 to list.\n",
      "Removed 22 from list.\n"
     ]
    }
   ],
   "source": [
    "print(\"Adding Numbers In List Script\")\n",
    "print(\"-\"*25)\n",
    "numlist = []\n",
    "while True:\n",
    "    start = input(\"Type the number for the result - (1) enter numbers (2) add numbers (3) remove last value added or (4) exit: \")\n",
    "    if start == \"1\":\n",
    "        val = input(\"Enter a numeric value: \") # take input while storing it in a variable\n",
    "        try: \n",
    "            test = int(val) # testing to see if input is an integer (numeric)\n",
    "        except:\n",
    "            print(\"Please enter a valid number\")\n",
    "            continue # 'continue' keyword skips to next step of while loop (basically restarting the loop)\n",
    "        numlist.append(int(val)) # append method to add values\n",
    "        print(\"Added \"+val+\" to list.\")\n",
    "    elif start == \"2\":\n",
    "        sum = 0\n",
    "        for num in numlist: # loop through list and add all values to sum variable\n",
    "            sum += num\n",
    "        print(\"Sum of numbers in list is \"+str(sum))\n",
    "    elif start == \"3\":\n",
    "        if len(numlist) > 0: # Make sure there are values in list to remove\n",
    "            print(\"Removed \"+str(numlist[len(numlist)-1])+\" from list.\")\n",
    "            numlist.pop()\n",
    "        else:\n",
    "            print(\"No values to delete\")\n",
    "    elif start == \"4\":\n",
    "        break # Break out of the while loop, or it will continue running forever\n",
    "    else:\n",
    "        continue"
   ]
  },
  {
   "cell_type": "markdown",
   "metadata": {},
   "source": [
    "### Popcorn Hack #2"
   ]
  },
  {
   "cell_type": "markdown",
   "metadata": {
    "vscode": {
     "languageId": "raw"
    }
   },
   "source": [
    "nums ← [1, 2, 3, ..., 100]\n",
    "even_sum ← 0\n",
    "\n",
    "FOR EACH num IN nums\n",
    "    IF num MOD 2 = 0 THEN\n",
    "        even_sum ← even_sum + num\n",
    "    END IF\n",
    "END FOR\n",
    "\n",
    "DISPLAY (even_sum)"
   ]
  },
  {
   "cell_type": "code",
   "execution_count": 17,
   "metadata": {},
   "outputs": [
    {
     "name": "stdout",
     "output_type": "stream",
     "text": [
      "2550\n"
     ]
    }
   ],
   "source": [
    "nums = list(range(1, 101))\n",
    "even_sum = 0\n",
    "\n",
    "for num in nums:\n",
    "    if num % 2 == 0:\n",
    "        even_sum += num\n",
    "\n",
    "print(even_sum)"
   ]
  },
  {
   "cell_type": "markdown",
   "metadata": {},
   "source": [
    "### Popcorn Hack #3"
   ]
  },
  {
   "cell_type": "code",
   "execution_count": 11,
   "metadata": {},
   "outputs": [
    {
     "name": "stdout",
     "output_type": "stream",
     "text": [
      "spaghetti with lettuce\n"
     ]
    }
   ],
   "source": [
    "import random\n",
    "\n",
    "main_dishes = []\n",
    "sides = []\n",
    "\n",
    "while True:\n",
    "    main = input(\"Enter a main dish (or type 'done' to finish): \")\n",
    "    if main.lower() == 'done':\n",
    "        break\n",
    "    main_dishes.append(main)\n",
    "\n",
    "while True:\n",
    "    side = input(\"Enter a side dish (or type 'done' to finish): \")\n",
    "    if side.lower() == 'done':\n",
    "        break\n",
    "    sides.append(side)\n",
    "\n",
    "meal_combinations = [f\"{main} with {side}\" for main in main_dishes for side in sides]\n",
    "print(random.choice(meal_combinations))\n"
   ]
  }
 ],
 "metadata": {
  "kernelspec": {
   "display_name": "venv",
   "language": "python",
   "name": "python3"
  },
  "language_info": {
   "codemirror_mode": {
    "name": "ipython",
    "version": 3
   },
   "file_extension": ".py",
   "mimetype": "text/x-python",
   "name": "python",
   "nbconvert_exporter": "python",
   "pygments_lexer": "ipython3",
   "version": "3.12.6"
  }
 },
 "nbformat": 4,
 "nbformat_minor": 2
}
