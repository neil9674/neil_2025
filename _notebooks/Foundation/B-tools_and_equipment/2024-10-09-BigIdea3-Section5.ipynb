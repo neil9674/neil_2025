{
 "cells": [
  {
   "cell_type": "raw",
   "metadata": {
    "vscode": {
     "languageId": "raw"
    }
   },
   "source": [
    "---\n",
    "layout: post\n",
    "title:  Big Idea 3 Section 5\n",
    "author: Neil Chandra\n",
    "type: issues\n",
    "description: Popcorn hacks and Homework for Section 5 of Big Idea 3\n",
    "toc: true\n",
    "comments: true\n",
    "---"
   ]
  },
  {
   "cell_type": "markdown",
   "metadata": {},
   "source": [
    "## Big Idea 3 Section 5"
   ]
  },
  {
   "cell_type": "markdown",
   "metadata": {},
   "source": [
    "### Popcorn Hack in Python"
   ]
  },
  {
   "cell_type": "code",
   "execution_count": 4,
   "metadata": {},
   "outputs": [
    {
     "name": "stdout",
     "output_type": "stream",
     "text": [
      "It is hot, so the ground must also be dry: True\n",
      "The ground is dry, we cannot conclude anything about it being hot.\n"
     ]
    }
   ],
   "source": [
    "# It is hot, so the ground would be dry.\n",
    "\n",
    "def A():\n",
    "    return True\n",
    "\n",
    "def B():\n",
    "    return True\n",
    "\n",
    "if A():\n",
    "    print(\"It is hot, so the ground must also be dry:\", B())\n",
    "else:\n",
    "    print(\"It is not hot, we cannot conclude anything about the ground being dry.\")\n",
    "\n",
    "if not B():\n",
    "    print(\"It is not hot, therefore the ground must also be dry:\", not A())\n",
    "else:\n",
    "    print(\"The ground is dry, we cannot conclude anything about it being hot.\")"
   ]
  },
  {
   "cell_type": "markdown",
   "metadata": {},
   "source": [
    "### Popcorn Hack in Javascript"
   ]
  },
  {
   "cell_type": "code",
   "execution_count": 6,
   "metadata": {
    "vscode": {
     "languageId": "javascript"
    }
   },
   "outputs": [
    {
     "data": {
      "application/javascript": "\nfunction A() {\n    return true;\n}\n\nfunction B() {\n    return true;\n}\n\nfunction main() {\n    if (A()) {\n        console.log(\"It is hot, so the ground must also be dry:\" + B());\n    } else {\n        console.log(\"It is not hot, we cannot conclude anything about the ground being dry.\");\n    }\n    if (!B()) {\n        console.log(\"It is not hot, therefore the ground must also be dry:\" + !A());\n    } else {\n        console.log(\"The ground is dry, we cannot conclude anything about it being hot.\");\n    }\n}\nmain();\n",
      "text/plain": [
       "<IPython.core.display.Javascript object>"
      ]
     },
     "metadata": {},
     "output_type": "display_data"
    }
   ],
   "source": [
    "%%js\n",
    "\n",
    "function A() {\n",
    "    return true;\n",
    "}\n",
    "\n",
    "function B() {\n",
    "    return true;\n",
    "}\n",
    "\n",
    "function main() {\n",
    "    if (A()) {\n",
    "        console.log(\"It is hot, so the ground must also be dry:\" + B());\n",
    "    } else {\n",
    "        console.log(\"It is not hot, we cannot conclude anything about the ground being dry.\");\n",
    "    }\n",
    "    if (!B()) {\n",
    "        console.log(\"It is not hot, therefore the ground must also be dry:\" + !A());\n",
    "    } else {\n",
    "        console.log(\"The ground is dry, we cannot conclude anything about it being hot.\");\n",
    "    }\n",
    "}\n",
    "main();"
   ]
  },
  {
   "cell_type": "markdown",
   "metadata": {},
   "source": [
    "### Homework in Python"
   ]
  },
  {
   "cell_type": "code",
   "execution_count": 3,
   "metadata": {},
   "outputs": [
    {
     "name": "stdout",
     "output_type": "stream",
     "text": [
      "A     B | AND | OR | NOT A\n",
      "---------------------------\n",
      "1     1     | 1    | 1   | False\n",
      "1     0     | 0    | 1   | False\n",
      "0     1     | 0    | 1   | True\n",
      "0     0     | 0    | 0   | True\n"
     ]
    }
   ],
   "source": [
    "def AND(A, B):\n",
    "    return A and B\n",
    "\n",
    "def OR(A, B):\n",
    "    return A or B\n",
    "\n",
    "def NOT(A):\n",
    "    return not A\n",
    "\n",
    "print(\"A     B | AND | OR | NOT A\")\n",
    "print(\"---------------------------\")\n",
    "for A in [True, False]:\n",
    "    for B in [True, False]:\n",
    "        print(f\"{A:<5} {B:<5} | {AND(A, B):<4} | {OR(A, B):<3} | {NOT(A)}\")"
   ]
  },
  {
   "cell_type": "markdown",
   "metadata": {},
   "source": [
    "### Homework in Javascript"
   ]
  },
  {
   "cell_type": "code",
   "execution_count": 8,
   "metadata": {
    "vscode": {
     "languageId": "javascript"
    }
   },
   "outputs": [
    {
     "data": {
      "application/javascript": "\nfunction AND(A, B) {\n    return A && B;\n}\nfunction OR(A, B) {\n    return A || B;\n}\nfunction NOT(A) {\n    return !A;\n}\n\nconsole.log(\"A     B | AND | OR  | NOT A\");\nconsole.log(\"----------------------------\");\n\nlet values = [true, false];\nfor (let A of values) {\n    for (let B of values) {\n        console.log(`${A}  ${B} | ${AND(A, B)}  | ${OR(A, B)}  | ${NOT(A)}`);\n    }\n}\n",
      "text/plain": [
       "<IPython.core.display.Javascript object>"
      ]
     },
     "metadata": {},
     "output_type": "display_data"
    }
   ],
   "source": [
    "%%js\n",
    "\n",
    "function AND(A, B) {\n",
    "    return A && B;\n",
    "}\n",
    "function OR(A, B) {\n",
    "    return A || B;\n",
    "}\n",
    "function NOT(A) {\n",
    "    return !A;\n",
    "}\n",
    "\n",
    "console.log(\"A     B | AND | OR  | NOT A\");\n",
    "console.log(\"----------------------------\");\n",
    "\n",
    "let values = [true, false];\n",
    "for (let A of values) {\n",
    "    for (let B of values) {\n",
    "        console.log(`${A}  ${B} | ${AND(A, B)}  | ${OR(A, B)}  | ${NOT(A)}`);\n",
    "    }\n",
    "}\n"
   ]
  }
 ],
 "metadata": {
  "kernelspec": {
   "display_name": "venv",
   "language": "python",
   "name": "python3"
  },
  "language_info": {
   "codemirror_mode": {
    "name": "ipython",
    "version": 3
   },
   "file_extension": ".py",
   "mimetype": "text/x-python",
   "name": "python",
   "nbconvert_exporter": "python",
   "pygments_lexer": "ipython3",
   "version": "3.12.6"
  }
 },
 "nbformat": 4,
 "nbformat_minor": 2
}
