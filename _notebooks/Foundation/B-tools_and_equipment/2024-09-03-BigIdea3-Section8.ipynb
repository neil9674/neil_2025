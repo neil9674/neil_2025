{
 "cells": [
  {
   "cell_type": "raw",
   "metadata": {
    "vscode": {
     "languageId": "raw"
    }
   },
   "source": [
    "---\n",
    "layout: post\n",
    "title:  Big Idea 3 Section 8\n",
    "author: Neil Chandra\n",
    "type: issues\n",
    "description: Popcorn hacks and Homework for Section 8 of Big Idea 3\n",
    "toc: true\n",
    "comments: true\n",
    "---"
   ]
  },
  {
   "cell_type": "markdown",
   "metadata": {},
   "source": [
    "## Big Idea 3 Section 8"
   ]
  },
  {
   "cell_type": "markdown",
   "metadata": {
    "vscode": {
     "languageId": "raw"
    }
   },
   "source": [
    "### Popcorn Hack #1"
   ]
  },
  {
   "cell_type": "code",
   "execution_count": 17,
   "metadata": {
    "vscode": {
     "languageId": "javascript"
    }
   },
   "outputs": [
    {
     "data": {
      "application/javascript": "for (let i = 0; i < 22; i++) {\n    console.log(i);\n}\n",
      "text/plain": [
       "<IPython.core.display.Javascript object>"
      ]
     },
     "metadata": {},
     "output_type": "display_data"
    }
   ],
   "source": [
    "%%javascript\n",
    "for (let i = 0; i < 22; i++) {\n",
    "    console.log(i);\n",
    "}"
   ]
  },
  {
   "cell_type": "markdown",
   "metadata": {
    "vscode": {
     "languageId": "javascript"
    }
   },
   "source": [
    "### Popcorn Hack #2"
   ]
  },
  {
   "cell_type": "code",
   "execution_count": 20,
   "metadata": {
    "vscode": {
     "languageId": "javascript"
    }
   },
   "outputs": [
    {
     "name": "stdout",
     "output_type": "stream",
     "text": [
      "😀\n",
      "😃\n",
      "😄\n"
     ]
    }
   ],
   "source": [
    "smiling_faces = ['😀', '😃', '😄']\n",
    "\n",
    "for smiling_faces in smiling_faces:\n",
    "    print(smiling_faces)"
   ]
  },
  {
   "cell_type": "markdown",
   "metadata": {},
   "source": [
    "### Homework 1"
   ]
  },
  {
   "cell_type": "code",
   "execution_count": null,
   "metadata": {},
   "outputs": [
    {
     "name": "stdout",
     "output_type": "stream",
     "text": [
      "person1 Rohan Bojja\n",
      "person2 Neil Chandra\n",
      "Rohan Bojja\n",
      "Neil Chandra\n",
      "person1 Rohan Bojja\n",
      "person2 Neil Chandra\n"
     ]
    }
   ],
   "source": [
    "## HW 1 Part 1\n",
    "\n",
    "person = {'person1': 'Rohan Bojja', 'person2': \"Neil Chandra\"}\n",
    "\n",
    "for key in person:\n",
    "    print(key, person[key])\n",
    "\n",
    "for value in person.values():\n",
    "    print(value)\n",
    "\n",
    "for key, value in person.items():\n",
    "    print(key, value)"
   ]
  },
  {
   "cell_type": "code",
   "execution_count": null,
   "metadata": {
    "vscode": {
     "languageId": "javascript"
    }
   },
   "outputs": [
    {
     "data": {
      "application/javascript": "\nconst person = {\n    \"person1\": \"Rohan Bojja\",\n    \"person2\": \"Neil Chandra\"\n}\n\nfor (const key in person) {\n    console.log(key + \": \" + person[key])\n}\n",
      "text/plain": [
       "<IPython.core.display.Javascript object>"
      ]
     },
     "metadata": {},
     "output_type": "display_data"
    }
   ],
   "source": [
    "%%js\n",
    "\n",
    "// HW 1 Part 2\n",
    "\n",
    "const person = {\n",
    "    \"person1\": \"Rohan Bojja\",\n",
    "    \"person2\": \"Neil Chandra\"\n",
    "}\n",
    "\n",
    "for (const key in person) {\n",
    "    console.log(key + \": \" + person[key])\n",
    "}"
   ]
  },
  {
   "cell_type": "markdown",
   "metadata": {},
   "source": [
    "### While Loop Popcorn Hack #1"
   ]
  },
  {
   "cell_type": "code",
   "execution_count": 10,
   "metadata": {},
   "outputs": [
    {
     "name": "stdout",
     "output_type": "stream",
     "text": [
      "2\n",
      "4\n",
      "6\n",
      "8\n",
      "10\n",
      "12\n",
      "14\n",
      "16\n",
      "18\n",
      "20\n",
      "22\n",
      "24\n",
      "26\n",
      "28\n",
      "30\n"
     ]
    }
   ],
   "source": [
    "number = 1\n",
    "\n",
    "while number <= 30:\n",
    "    if number % 2 == 0:\n",
    "        print(number)\n",
    "    number += 1"
   ]
  },
  {
   "cell_type": "markdown",
   "metadata": {},
   "source": [
    "### While Loop Popcorn Hack #2"
   ]
  },
  {
   "cell_type": "code",
   "execution_count": 11,
   "metadata": {},
   "outputs": [
    {
     "name": "stdout",
     "output_type": "stream",
     "text": [
      "Flipped: heads\n",
      "Yes, it finally landed on heads!\n"
     ]
    }
   ],
   "source": [
    "import random\n",
    "\n",
    "flip = \"\"\n",
    "\n",
    "while flip != \"heads\":\n",
    "    flip = random.choice([\"heads\", \"tails\"])\n",
    "    print(f\"Flipped: {flip}\")\n",
    "\n",
    "print(\"Yes, it finally landed on heads!\")"
   ]
  },
  {
   "cell_type": "markdown",
   "metadata": {},
   "source": [
    "### Homework 2"
   ]
  },
  {
   "cell_type": "code",
   "execution_count": 83,
   "metadata": {},
   "outputs": [
    {
     "name": "stdout",
     "output_type": "stream",
     "text": [
      "1\n",
      "2\n",
      "Fizz\n",
      "4\n",
      "Buzz\n",
      "Fizz\n",
      "Boom\n",
      "8\n",
      "Fizz\n",
      "Buzz\n",
      "11\n",
      "Fizz\n",
      "13\n",
      "Boom\n",
      "FizzBuzz\n",
      "16\n",
      "17\n",
      "Fizz\n",
      "19\n",
      "Buzz\n",
      "Fizz\n",
      "22\n",
      "23\n",
      "Fizz\n",
      "Buzz\n",
      "26\n",
      "Fizz\n",
      "Boom\n",
      "29\n",
      "FizzBuzz\n",
      "31\n",
      "32\n",
      "Fizz\n",
      "34\n",
      "Buzz\n",
      "Fizz\n",
      "37\n",
      "38\n",
      "Fizz\n",
      "Buzz\n",
      "41\n",
      "Fizz\n",
      "43\n",
      "44\n",
      "FizzBuzz\n",
      "46\n",
      "47\n",
      "Fizz\n",
      "Boom\n",
      "Buzz\n",
      "Fizz\n"
     ]
    }
   ],
   "source": [
    "# HW 2 Task 1\n",
    "\n",
    "x = int(0)\n",
    "\n",
    "while x != int(51):\n",
    "    x = int(x) + 1\n",
    "    if x % int(3) == int(0) and x % int(5) == int(0):\n",
    "        print(\"FizzBuzz\")\n",
    "    elif x % int(3) == int(0):\n",
    "        print(\"Fizz\")\n",
    "    elif x % int(5) == int(0):\n",
    "        print(\"Buzz\")\n",
    "    elif x % int(7) == int(0):\n",
    "        print(\"Boom\")\n",
    "    else:\n",
    "        print(str(x))\n",
    "        "
   ]
  },
  {
   "cell_type": "code",
   "execution_count": 96,
   "metadata": {},
   "outputs": [
    {
     "name": "stdout",
     "output_type": "stream",
     "text": [
      "You have got it wrong 1 times\n",
      "You have 2 times left\n",
      "You have got it wrong 2 times\n",
      "You have 1 times left\n",
      "You got the correct Password\n"
     ]
    }
   ],
   "source": [
    "# HW 1 Task 2\n",
    "\n",
    "failed_counter = int(0)\n",
    "\n",
    "while failed_counter < int(3):\n",
    "    if password == \"Password1!\":\n",
    "        print(\"You got the correct Password\")\n",
    "        break\n",
    "    else:\n",
    "        password = input(\"Please enter the password here: \")\n",
    "        failed_counter = int(failed_counter) + 1\n",
    "        print(\"You have got it wrong \" + str(failed_counter) + \" times\")\n",
    "        print(\"You have \" + str(int(3) - int(failed_counter)) + \" times left\")"
   ]
  },
  {
   "cell_type": "markdown",
   "metadata": {},
   "source": [
    "### Python Popcorn Hack"
   ]
  },
  {
   "cell_type": "code",
   "execution_count": 14,
   "metadata": {},
   "outputs": [
    {
     "name": "stdout",
     "output_type": "stream",
     "text": [
      "Your Classes for the Day:\n",
      "1. AP Calculus\n",
      "2. AP CSP\n",
      "3. AP Chemistry\n",
      "4. AP English Seminar\n",
      "5. World History\n"
     ]
    }
   ],
   "source": [
    "# List of tasks\n",
    "classes = [\n",
    "    \"AP Calculus\",\n",
    "    \"AP CSP\",\n",
    "    \"AP Chemistry\",\n",
    "    \"AP English Seminar\",\n",
    "    \"World History\"\n",
    "]\n",
    "\n",
    "# Function to display tasks with indices\n",
    "def display_tasks():\n",
    "    print(\"Your Classes for the Day:\")\n",
    "    for index in range(len(classes)):\n",
    "        print(f\"{index + 1}. {classes[index]}\")  # Display task with its index\n",
    "\n",
    "# Call the function\n",
    "display_tasks()"
   ]
  },
  {
   "cell_type": "markdown",
   "metadata": {},
   "source": [
    "### Javascript Popcorn Hack"
   ]
  },
  {
   "cell_type": "code",
   "execution_count": 18,
   "metadata": {
    "vscode": {
     "languageId": "javascript"
    }
   },
   "outputs": [
    {
     "data": {
      "application/javascript": "// List of tasks\nconst classes = [\n    \"AP Calculus\",\n    \"AP CSP\",\n    \"AP Chemistry\",\n    \"AP English Seminar\",\n    \"World History\"\n];\n\n// Function to display tasks with indices\nfunction displayTasks() {\n    console.log(\"Your To-Do List:\");\n    for (let index = 0; index < classes.length; index++) {\n        console.log(`${index + 1}. ${classes[index]}`); // Display task with its index\n    }\n}\n\n// Call the function\ndisplayTasks();\n",
      "text/plain": [
       "<IPython.core.display.Javascript object>"
      ]
     },
     "metadata": {},
     "output_type": "display_data"
    }
   ],
   "source": [
    "%%javascript\n",
    "// List of tasks\n",
    "const classes = [\n",
    "    \"AP Calculus\",\n",
    "    \"AP CSP\",\n",
    "    \"AP Chemistry\",\n",
    "    \"AP English Seminar\",\n",
    "    \"World History\"\n",
    "];\n",
    "\n",
    "// Function to display tasks with indices\n",
    "function displayTasks() {\n",
    "    console.log(\"Your To-Do List:\");\n",
    "    for (let index = 0; index < classes.length; index++) {\n",
    "        console.log(`${index + 1}. ${classes[index]}`); // Display task with its index\n",
    "    }\n",
    "}\n",
    "\n",
    "// Call the function\n",
    "displayTasks();"
   ]
  },
  {
   "cell_type": "markdown",
   "metadata": {},
   "source": [
    "### Popcorn Hack #1"
   ]
  },
  {
   "cell_type": "code",
   "execution_count": 24,
   "metadata": {
    "vscode": {
     "languageId": "javascript"
    }
   },
   "outputs": [
    {
     "data": {
      "application/javascript": "for (let i = 0; i < 20; i++)\n  for (let i = 0; i < 20; i++) {\n    if (i === 15) {\n        break;\n    }\n    console.log(i);\n}\n",
      "text/plain": [
       "<IPython.core.display.Javascript object>"
      ]
     },
     "metadata": {},
     "output_type": "display_data"
    }
   ],
   "source": [
    "%%javascript\n",
    "for (let i = 0; i < 20; i++)\n",
    "  for (let i = 0; i < 20; i++) {\n",
    "    if (i === 15) {\n",
    "        break;\n",
    "    }\n",
    "    console.log(i);\n",
    "}"
   ]
  },
  {
   "cell_type": "markdown",
   "metadata": {},
   "source": [
    "### Popcorn Hack #2"
   ]
  },
  {
   "cell_type": "code",
   "execution_count": 101,
   "metadata": {
    "vscode": {
     "languageId": "javascript"
    }
   },
   "outputs": [
    {
     "data": {
      "application/javascript": "\nfor (let i = 0; i < 20; i++) {\n  if (i === 10) {\n    continue; \n  }\n  console.log(i); \n}\n",
      "text/plain": [
       "<IPython.core.display.Javascript object>"
      ]
     },
     "metadata": {},
     "output_type": "display_data"
    }
   ],
   "source": [
    "%%javascript\n",
    "\n",
    "for (let i = 0; i < 20; i++) {\n",
    "  if (i === 10) {\n",
    "    continue; \n",
    "  }\n",
    "  console.log(i); \n",
    "}"
   ]
  },
  {
   "cell_type": "markdown",
   "metadata": {
    "vscode": {
     "languageId": "javascript"
    }
   },
   "source": [
    "### Homework 3"
   ]
  },
  {
   "cell_type": "code",
   "execution_count": 105,
   "metadata": {
    "vscode": {
     "languageId": "javascript"
    }
   },
   "outputs": [
    {
     "data": {
      "application/javascript": "\nfor (let i = 0; i < 20; i += 2) {\n    if (i === 10) {\n      break;\n    }\n    console.log(i);\n  }\n",
      "text/plain": [
       "<IPython.core.display.Javascript object>"
      ]
     },
     "metadata": {},
     "output_type": "display_data"
    }
   ],
   "source": [
    "%%javascript\n",
    "\n",
    "for (let i = 0; i < 20; i += 2) {\n",
    "    if (i === 10) {\n",
    "      break;\n",
    "    }\n",
    "    console.log(i);\n",
    "  }"
   ]
  },
  {
   "cell_type": "code",
   "execution_count": 104,
   "metadata": {},
   "outputs": [
    {
     "name": "stdout",
     "output_type": "stream",
     "text": [
      "This number is 0\n",
      "This number is 1\n",
      "This number is 2\n",
      "This number is 3\n",
      "This number is 4\n",
      "This number is 6\n",
      "This number is 7\n",
      "This number is 8\n",
      "This number is 9\n"
     ]
    }
   ],
   "source": [
    "for i in range(10):\n",
    "    if i == 5:\n",
    "        continue\n",
    "    print(f\"This number is {i}\")"
   ]
  }
 ],
 "metadata": {
  "kernelspec": {
   "display_name": "venv",
   "language": "python",
   "name": "python3"
  },
  "language_info": {
   "codemirror_mode": {
    "name": "ipython",
    "version": 3
   },
   "file_extension": ".py",
   "mimetype": "text/x-python",
   "name": "python",
   "nbconvert_exporter": "python",
   "pygments_lexer": "ipython3",
   "version": "3.12.6"
  }
 },
 "nbformat": 4,
 "nbformat_minor": 2
}
