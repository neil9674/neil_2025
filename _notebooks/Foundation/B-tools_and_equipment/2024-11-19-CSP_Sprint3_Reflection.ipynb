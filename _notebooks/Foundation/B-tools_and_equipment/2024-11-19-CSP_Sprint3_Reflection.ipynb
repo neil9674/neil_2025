{
 "cells": [
  {
   "cell_type": "raw",
   "metadata": {
    "vscode": {
     "languageId": "raw"
    }
   },
   "source": [
    "---\n",
    "layout: post\n",
    "title:  Sprint 3 Final Reflection\n",
    "author: Neil Chandra\n",
    "type: issues\n",
    "description: Full reflection of my accomplishments and the backend for Sprint 3\n",
    "toc: true\n",
    "comments: true\n",
    "---"
   ]
  },
  {
   "cell_type": "markdown",
   "metadata": {},
   "source": [
    "## Sprint 3 Reflection"
   ]
  },
  {
   "cell_type": "markdown",
   "metadata": {},
   "source": [
    "### Creating the Group Design\n",
    "[Link to Figma Template](https://www.figma.com/design/0fkn4vCGZvJeiaE47suJdW/Flocker-Room?node-id=0-1&node-type=canvas&t=dfH6VcYav35drSg6-0)\n",
    "\n",
    "This is where I created the entire design along with another member, which would serve as the template for which we would use to create our code. It laid the foundations, and was a great experience for teaching me how to format and aesthetically design a website.\n",
    "\n",
    "### Backend Development (Went over this with Mr. Mortensen)\n",
    "<img src=\"../../../images/backend.png\">\n",
    "\n",
    "The backend was obviously the most valuable lesson in Sprint 3, I learned how to collect and store data, and this is something that essentially allows a website to actually function. \n",
    "\n",
    "If you click on channels, you will be able to see the full structure/directory of the database (.db), which I can navigate through to see all the different storages of information for the flocker website.\n",
    "\n",
    "It stores posts, and additional information.\n",
    "\n",
    "<img src=\"../../../images/posts.png\">\n",
    "\n",
    "This is an example of posting, the posts option is on the flocker_frontend (frontend of the website), and then once you post it, it gets stored in the databse (backend). If the backend didn't exist, all posts would be displayed, but would go away once the request to the website was refreshed.\n",
    "\n",
    "### My Favorite (and largest) Contribution\n",
    "<img src=\"../../../images/aichatroom.png\">\n",
    "\n",
    "This is an example of my favorite contribution. I used a Gemini API as the AI for the user to communicate with. To test out the AI, I used to Postman to communicate with the API endpoint, sending \"POST\" requests to test it out. I eventually got it working, and was even able to make dynamically generated messages, that sounded human. Overall, this was my faborite contribution!"
   ]
  }
 ],
 "metadata": {
  "language_info": {
   "name": "python"
  }
 },
 "nbformat": 4,
 "nbformat_minor": 2
}
