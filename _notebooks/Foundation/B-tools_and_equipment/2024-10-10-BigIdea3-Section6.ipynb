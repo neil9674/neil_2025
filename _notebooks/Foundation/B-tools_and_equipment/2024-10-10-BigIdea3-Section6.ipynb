{
 "cells": [
  {
   "cell_type": "raw",
   "metadata": {
    "vscode": {
     "languageId": "raw"
    }
   },
   "source": [
    "---\n",
    "layout: post\n",
    "title:  Big Idea 3 Section 6\n",
    "author: Neil Chandra\n",
    "type: issues\n",
    "description: Popcorn hacks and Homework for Section 6 of Big Idea 3\n",
    "toc: true\n",
    "comments: true\n",
    "---"
   ]
  },
  {
   "cell_type": "markdown",
   "metadata": {},
   "source": [
    "## Big Idea 3 Section 6"
   ]
  },
  {
   "cell_type": "markdown",
   "metadata": {},
   "source": [
    "### Popcorn Hack #1"
   ]
  },
  {
   "cell_type": "code",
   "execution_count": 1,
   "metadata": {},
   "outputs": [
    {
     "name": "stdout",
     "output_type": "stream",
     "text": [
      "You can buy the item!\n"
     ]
    }
   ],
   "source": [
    "bank_balance = 34\n",
    "\n",
    "# Conditional statement\n",
    "item_price = 20\n",
    "if bank_balance >= item_price:\n",
    "    print(\"You can buy the item!\")\n",
    "else:\n",
    "    print(\"You cannot buy the item.\")"
   ]
  },
  {
   "cell_type": "code",
   "execution_count": 3,
   "metadata": {
    "vscode": {
     "languageId": "javascript"
    }
   },
   "outputs": [
    {
     "data": {
      "application/javascript": "let bank_balance = 34;\n\n// Conditional statement\nlet item_price = 20;\nif (bank_balance >= item_price) {\n    console.log(\"You can buy the item!\");\n} else {\n    console.log(\"You cannot buy the item.\");\n}\n",
      "text/plain": [
       "<IPython.core.display.Javascript object>"
      ]
     },
     "metadata": {},
     "output_type": "display_data"
    }
   ],
   "source": [
    "%%js\n",
    "let bank_balance = 34;\n",
    "\n",
    "// Conditional statement\n",
    "let item_price = 20;\n",
    "if (bank_balance >= item_price) {\n",
    "    console.log(\"You can buy the item!\");\n",
    "} else {\n",
    "    console.log(\"You cannot buy the item.\");\n",
    "}\n"
   ]
  },
  {
   "cell_type": "markdown",
   "metadata": {},
   "source": [
    "### Popcorn Hack #2"
   ]
  },
  {
   "cell_type": "code",
   "execution_count": 4,
   "metadata": {},
   "outputs": [
    {
     "name": "stdout",
     "output_type": "stream",
     "text": [
      "It is sunny outside!\n"
     ]
    }
   ],
   "source": [
    "sunny = True\n",
    "\n",
    "if sunny:\n",
    "    print(\"It is sunny outside!\")\n",
    "else:\n",
    "    print(\"It's cloudy outside :(\")"
   ]
  },
  {
   "cell_type": "code",
   "execution_count": 5,
   "metadata": {
    "vscode": {
     "languageId": "javascript"
    }
   },
   "outputs": [
    {
     "data": {
      "application/javascript": "let sunny = true;\n\nif (sunny) {\n    console.log(\"It is sunny outside!\");\n} else {\n    console.log(\"It's cloudy outside :(\");\n}\n",
      "text/plain": [
       "<IPython.core.display.Javascript object>"
      ]
     },
     "metadata": {},
     "output_type": "display_data"
    }
   ],
   "source": [
    "%%js\n",
    "let sunny = true;\n",
    "\n",
    "if (sunny) {\n",
    "    console.log(\"It is sunny outside!\");\n",
    "} else {\n",
    "    console.log(\"It's cloudy outside :(\");\n",
    "}"
   ]
  },
  {
   "cell_type": "markdown",
   "metadata": {},
   "source": [
    "### Popcorn Hack #3"
   ]
  },
  {
   "cell_type": "code",
   "execution_count": 9,
   "metadata": {
    "vscode": {
     "languageId": "javascript"
    }
   },
   "outputs": [
    {
     "data": {
      "application/javascript": "let will_i_be_lucky_today = Math.floor(Math.random() * 6) + 1;\n\nconsole.log(\"Checking for luckiness today\");\nconsole.log(`You got a luck score of ${will_i_be_lucky_today}`);\n\nif (will_i_be_lucky_today === 1) {\n    console.log(\"Oh no! You got a one. You will be unlucky today!\");\n} else if (will_i_be_lucky_today <= 3) {\n    console.log(\"You got a low number. Nothing will happen!\");\n} else if (will_i_be_lucky_today === 4) {\n    console.log(\"Not bad! You will be somewhat lucky today.\");\n} else if (will_i_be_lucky_today === 5) {\n    console.log(\"Great score! You got a five, you will be lucky.\");\n} else {\n    console.log(\"Awesome! You got a six! You're going to be very lucky today!\");\n}\n",
      "text/plain": [
       "<IPython.core.display.Javascript object>"
      ]
     },
     "metadata": {},
     "output_type": "display_data"
    }
   ],
   "source": [
    "%%js\n",
    "let will_i_be_lucky_today = Math.floor(Math.random() * 6) + 1;\n",
    "\n",
    "console.log(\"Checking for luckiness today\");\n",
    "console.log(`You got a luck score of ${will_i_be_lucky_today}`);\n",
    "\n",
    "if (will_i_be_lucky_today === 1) {\n",
    "    console.log(\"Oh no! You got a one. You will be unlucky today!\");\n",
    "} else if (will_i_be_lucky_today <= 3) {\n",
    "    console.log(\"You got a low number. Nothing will happen!\");\n",
    "} else if (will_i_be_lucky_today === 4) {\n",
    "    console.log(\"Not bad! You will be somewhat lucky today.\");\n",
    "} else if (will_i_be_lucky_today === 5) {\n",
    "    console.log(\"Great score! You got a five, you will be lucky.\");\n",
    "} else {\n",
    "    console.log(\"Awesome! You got a six! You're going to be very lucky today!\");\n",
    "}"
   ]
  },
  {
   "cell_type": "markdown",
   "metadata": {},
   "source": [
    "### Homework 1"
   ]
  },
  {
   "cell_type": "code",
   "execution_count": 10,
   "metadata": {},
   "outputs": [
    {
     "name": "stdout",
     "output_type": "stream",
     "text": [
      "wrong! the correct answer was: Paris\n",
      "correct!\n",
      "wrong! the correct answer was: H2O\n",
      "correct!\n",
      "correct!\n",
      "Your final score is: 3/5\n"
     ]
    }
   ],
   "source": [
    "def random_question(question, correct_answer):\n",
    "    answer = input(question + \" \")\n",
    "    if answer.lower() == correct_answer.lower():\n",
    "        print(\"correct!\")\n",
    "        return 1\n",
    "    else:\n",
    "        print(f\"wrong! the correct answer was: {correct_answer}\")\n",
    "        return 0\n",
    "\n",
    "def play_quiz():\n",
    "    score = 0\n",
    "    score += random_question(\"What is the capital of France?\", \"Paris\")\n",
    "    score += random_question(\"What is the largest planet in our solar system?\", \"Jupiter\")\n",
    "    score += random_question(\"What is the chemical symbol for water?\", \"H2O\")\n",
    "    score += random_question(\"Who wrote 'Animal Farm'?\", \"George Orwell\")\n",
    "    score += random_question(\"How many continents are there?\", \"7\")\n",
    "    \n",
    "    print(f\"Your final score is: {score}/5\")\n",
    "\n",
    "play_quiz()\n"
   ]
  }
 ],
 "metadata": {
  "kernelspec": {
   "display_name": "venv",
   "language": "python",
   "name": "python3"
  },
  "language_info": {
   "codemirror_mode": {
    "name": "ipython",
    "version": 3
   },
   "file_extension": ".py",
   "mimetype": "text/x-python",
   "name": "python",
   "nbconvert_exporter": "python",
   "pygments_lexer": "ipython3",
   "version": "3.12.6"
  }
 },
 "nbformat": 4,
 "nbformat_minor": 2
}
