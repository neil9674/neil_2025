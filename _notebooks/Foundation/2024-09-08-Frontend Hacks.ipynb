%%html
```
<p>The below link is a link to the main page of Wikipedia</p>
<button>Click Me</button>
```
