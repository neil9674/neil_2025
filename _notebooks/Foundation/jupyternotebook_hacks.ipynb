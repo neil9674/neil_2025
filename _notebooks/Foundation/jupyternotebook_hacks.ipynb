{
 "cells": [
  {
   "cell_type": "raw",
   "metadata": {
    "vscode": {
     "languageId": "raw"
    }
   },
   "source": [
    "---\n",
    "layout: post\n",
    "title: Sprint 1 - Objectives \n",
    "description:  Tools and Software Development for Sprint 1\n",
    "type: issues \n",
    "comments: true\n",
    "---"
   ]
  },
  {
   "cell_type": "markdown",
   "metadata": {},
   "source": [
    "## [Issue](https://github.com/nighthawkcoders/portfolio_2025/issues/14) "
   ]
  },
  {
   "cell_type": "markdown",
   "metadata": {},
   "source": [
    "## Project-base Learning Requirements\n",
    "Each sprint there will be hacks and project-based learning requirements.  It is up to the individual to develop their own plan for how they will represent work.  Here are some links and tips.\n",
    "\n",
    "- All work, tangible artifacts, will be captured in personal GitHub Pages\n",
   ]
  },
  {
   "cell_type": "markdown",
   "metadata": {},
   "source": []
  }
 ],
 "metadata": {
  "language_info": {
   "name": "python"
  }
 },
 "nbformat": 4,
 "nbformat_minor": 2
}
