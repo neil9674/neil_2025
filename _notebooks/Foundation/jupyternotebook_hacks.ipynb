{
 "cells": [
  {
   "cell_type": "raw",
   "metadata": {
    "vscode": {
     "languageId": "raw"
    }
   },
   "source": [
    "---\n",
    "layout: post\n",
    "title: Sprint 1 Jupyter Notebook Hacks \n",
    "description:  Tools and Software Development for Sprint 1\n",
    "type: issues \n",
    "comments: true\n",
    "---"
   ]
  },
  {
   "cell_type": "markdown",
   "metadata": {},
   "source": [
    "## [Jupyter Notebook Hacks Test](https://github.com/neil9674/neil_2025/issues/14) "
   ]
  },
  {
   "cell_type": "markdown",
   "metadata": {},
   "source": [
    "## Test\n",
    "**It will be a very bad day when you say... \"I have everything done\".**  This statement typically comes by students that  are lacking understading.\n",
    "\n",
    "This statement shows that the person making the statement knows very little about CompSci and the principles of iteration that are being promoted in this class.  In fact, that state does not agree with Agile Development Methodologies that we will be learning in this class.\n",
    "\n",
    "Hi.  \n",
    "\n",
    "- This is simply a test for a Jupyter Notebook in accordance with the Jupyter Notebook Hacks page for Sprint 1. \n",
    "\n",
    "End Test\n"
   ]
  },
  {
   "cell_type": "markdown",
   "metadata": {},
   "source": []
  }
 ],
 "metadata": {
  "language_info": {
   "name": "python"
  }
 },
 "nbformat": 4,
 "nbformat_minor": 2
}
