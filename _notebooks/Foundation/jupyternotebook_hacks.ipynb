{
 "cells": [
  {
   "cell_type": "raw",
   "metadata": {
    "vscode": {
     "languageId": "raw"
    }
   },
   "source": [
    "---\n",
    "layout: post\n",
    "title: Sprint 1 Jupyter Notebook Hacks \n",
    "description:  Tools and Software Development for Sprint 1\n",
    "type: issues \n",
    "comments: true\n",
    "---"
   ]
  },
  {
   "cell_type": "markdown",
   "metadata": {},
   "source": [
    "## [Jupyter Notebook Hacks Test](https://github.com/neil9674/neil_2025/issues/14) "
   ]
  },
  {
   "cell_type": "markdown",
   "metadata": {},
   "source": [
    "## Test\n",
    "**It will be a very bad day when you say... \"I have everything done\".**  This statement typically comes by students that  are lacking understading.\n",
    "\n",
    "This statement shows that the person making the statement knows very little about CompSci and the principles of iteration that are being promoted in this class.  In fact, that state does not agree with Agile Development Methodologies that we will be learning in this class.\n",
    "\n",
    "Hi.  \n",
    "\n",
    "- Code, Code, Code.  This is the process of making code and involves making plans, designs, reviewing references, asking questions and Code-Code-Coding. \n",
    "- No paper. We will be learning to do all work electronically. \n",
    "- Work Talk. A very high percentate 75%, 80% or more of your talk during class should be code, code, code talk.\n",
    "- Ears that can listen.  100% of time you should be available for discussion.  Covered or plugged in ears restricts hearing.\n",
    "- Hands that can code. The primary coding device is assumed to be your laptop!  Sprint 1 will be focused on laptop importance.\n",
    "\n",
  },
  {
   "cell_type": "markdown",
   "metadata": {},
   "source": []
  }
 ],
 "metadata": {
  "language_info": {
   "name": "python"
  }
 },
 "nbformat": 4,
 "nbformat_minor": 2
}
